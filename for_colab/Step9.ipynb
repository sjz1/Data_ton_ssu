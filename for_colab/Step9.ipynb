{
 "cells": [
  {
   "cell_type": "code",
   "execution_count": 97,
   "id": "c57a9102",
   "metadata": {},
   "outputs": [],
   "source": [
    "import tensorflow as tf\n",
    "import numpy as np\n",
    "import csv\n",
    "import matplotlib.pyplot as plt\n",
    "import pandas as pd\n",
    "#csv는 엑셀과 달리 , 를 통해 데이터를 구분\n",
    "colors = [\"black\", \"silver\",\"rosybrown\",\"brown\",\"red\",\"chocolate\",\"darkorange\",\"tan\",\"darkgoldenrod\",\"gold\",\"olive\",\"yellow\",\"yellowgreen\",\"darkseagreen\",\"lightgreen\",\"forestgreen\", \"springgreen\",\"aqua\", \"deepskyblue\",\"navy\", \"blue\", \"slateblue\",\"rebeccapurple\" ,\"black\", \"silver\",\"rosybrown\",\"brown\",\"red\",\"chocolate\",\"darkorange\",\"tan\",\"darkgoldenrod\",\"gold\",\"olive\",\"yellow\",\"yellowgreen\",\"darkseagreen\",\"lightgreen\",\"forestgreen\", \"springgreen\",\"aqua\", \"deepskyblue\",\"navy\", \"blue\", \"slateblue\",\"rebeccapurple\" , \"black\", \"silver\",\"rosybrown\",\"brown\",\"red\",\"chocolate\",\"darkorange\",\"tan\",\"darkgoldenrod\",\"gold\",\"olive\",\"yellow\",\"yellowgreen\",\"darkseagreen\",\"lightgreen\",\"forestgreen\", \"springgreen\",\"aqua\", \"deepskyblue\",\"navy\", \"blue\", \"slateblue\",\"rebeccapurple\" , \"black\", \"silver\",\"rosybrown\",\"brown\",\"red\",\"chocolate\",\"darkorange\",\"tan\",\"darkgoldenrod\",\"gold\",\"olive\",\"yellow\",\"yellowgreen\",\"darkseagreen\",\"lightgreen\",\"forestgreen\", \"springgreen\",\"aqua\", \"deepskyblue\",\"navy\", \"blue\", \"slateblue\",\"rebeccapurple\" , \"black\", \"silver\",\"rosybrown\",\"brown\",\"red\",\"chocolate\",\"darkorange\",\"tan\",\"darkgoldenrod\",\"gold\",\"olive\",\"yellow\",\"yellowgreen\",\"darkseagreen\",\"lightgreen\",\"forestgreen\", \"springgreen\",\"aqua\", \"deepskyblue\",\"navy\", \"blue\", \"slateblue\",\"rebeccapurple\" , \"black\", \"silver\",\"rosybrown\",\"brown\",\"red\",\"chocolate\",\"darkorange\",\"tan\", \"darkgoldenrod\",\"gold\",\"olive\",\"yellow\",\"yellowgreen\",\"darkseagreen\",\"lightgreen\",\"forestgreen\", \"springgreen\",\"aqua\", \"deepskyblue\",\"navy\", \"blue\", \"slateblue\",\"rebeccapurple\" , \"black\", \"silver\",\"rosybrown\",\"brown\",\"red\",\"chocolate\",\"darkorange\",\"tan\", \"darkgoldenrod\",\"gold\",\"olive\",\"yellow\",\"yellowgreen\",\"darkseagreen\",\"lightgreen\",\"forestgreen\", \"springgreen\",\"aqua\", \"deepskyblue\",\"navy\", \"blue\", \"slateblue\",\"rebeccapurple\" , \"black\", \"silver\",\"rosybrown\",\"brown\",\"red\",\"chocolate\",\"darkorange\",\"tan\",\"darkgoldenrod\",\"gold\",\"olive\",\"yellow\",\"yellowgreen\",\"darkseagreen\",\"lightgreen\",\"forestgreen\", \"springgreen\",\"aqua\", \"deepskyblue\",\"navy\", \"blue\", \"slateblue\",\"rebeccapurple\" , \"black\", \"silver\",\"rosybrown\",\"brown\",\"red\",\"chocolate\"]\n",
    "# 한글 폰트 사용을 위해서 세팅\n",
    "\n",
    "import matplotlib\n",
    "\n",
    "matplotlib.rcParams['font.family'] ='Malgun Gothic'\n",
    "matplotlib.rcParams['axes.unicode_minus'] =False"
   ]
  },
  {
   "cell_type": "code",
   "execution_count": 73,
   "id": "0bf72108",
   "metadata": {},
   "outputs": [
    {
     "data": {
      "text/html": [
       "<div>\n",
       "<style scoped>\n",
       "    .dataframe tbody tr th:only-of-type {\n",
       "        vertical-align: middle;\n",
       "    }\n",
       "\n",
       "    .dataframe tbody tr th {\n",
       "        vertical-align: top;\n",
       "    }\n",
       "\n",
       "    .dataframe thead th {\n",
       "        text-align: right;\n",
       "    }\n",
       "</style>\n",
       "<table border=\"1\" class=\"dataframe\">\n",
       "  <thead>\n",
       "    <tr style=\"text-align: right;\">\n",
       "      <th></th>\n",
       "      <th>label</th>\n",
       "      <th>0</th>\n",
       "      <th>1</th>\n",
       "      <th>2</th>\n",
       "      <th>3</th>\n",
       "      <th>4</th>\n",
       "      <th>5</th>\n",
       "      <th>6</th>\n",
       "      <th>7</th>\n",
       "      <th>8</th>\n",
       "      <th>9</th>\n",
       "      <th>10</th>\n",
       "      <th>11</th>\n",
       "      <th>12</th>\n",
       "      <th>13</th>\n",
       "      <th>14</th>\n",
       "      <th>15</th>\n",
       "      <th>16</th>\n",
       "    </tr>\n",
       "  </thead>\n",
       "  <tbody>\n",
       "    <tr>\n",
       "      <th>0</th>\n",
       "      <td>15</td>\n",
       "      <td>2</td>\n",
       "      <td>7</td>\n",
       "      <td>19</td>\n",
       "      <td>46</td>\n",
       "      <td>61</td>\n",
       "      <td>72</td>\n",
       "      <td>80</td>\n",
       "      <td>116</td>\n",
       "      <td>139</td>\n",
       "      <td>158</td>\n",
       "      <td>146</td>\n",
       "      <td>129</td>\n",
       "      <td>113</td>\n",
       "      <td>125</td>\n",
       "      <td>111</td>\n",
       "      <td>80</td>\n",
       "      <td>46</td>\n",
       "    </tr>\n",
       "    <tr>\n",
       "      <th>1</th>\n",
       "      <td>15</td>\n",
       "      <td>2</td>\n",
       "      <td>82</td>\n",
       "      <td>75</td>\n",
       "      <td>224</td>\n",
       "      <td>340</td>\n",
       "      <td>372</td>\n",
       "      <td>531</td>\n",
       "      <td>528</td>\n",
       "      <td>537</td>\n",
       "      <td>656</td>\n",
       "      <td>553</td>\n",
       "      <td>343</td>\n",
       "      <td>255</td>\n",
       "      <td>245</td>\n",
       "      <td>152</td>\n",
       "      <td>122</td>\n",
       "      <td>47</td>\n",
       "    </tr>\n",
       "    <tr>\n",
       "      <th>2</th>\n",
       "      <td>13</td>\n",
       "      <td>1</td>\n",
       "      <td>11</td>\n",
       "      <td>52</td>\n",
       "      <td>194</td>\n",
       "      <td>325</td>\n",
       "      <td>306</td>\n",
       "      <td>488</td>\n",
       "      <td>558</td>\n",
       "      <td>469</td>\n",
       "      <td>599</td>\n",
       "      <td>492</td>\n",
       "      <td>325</td>\n",
       "      <td>291</td>\n",
       "      <td>249</td>\n",
       "      <td>121</td>\n",
       "      <td>85</td>\n",
       "      <td>34</td>\n",
       "    </tr>\n",
       "    <tr>\n",
       "      <th>3</th>\n",
       "      <td>15</td>\n",
       "      <td>4</td>\n",
       "      <td>10</td>\n",
       "      <td>29</td>\n",
       "      <td>60</td>\n",
       "      <td>94</td>\n",
       "      <td>109</td>\n",
       "      <td>146</td>\n",
       "      <td>178</td>\n",
       "      <td>156</td>\n",
       "      <td>175</td>\n",
       "      <td>164</td>\n",
       "      <td>127</td>\n",
       "      <td>110</td>\n",
       "      <td>108</td>\n",
       "      <td>119</td>\n",
       "      <td>78</td>\n",
       "      <td>32</td>\n",
       "    </tr>\n",
       "    <tr>\n",
       "      <th>4</th>\n",
       "      <td>15</td>\n",
       "      <td>1</td>\n",
       "      <td>0</td>\n",
       "      <td>0</td>\n",
       "      <td>7</td>\n",
       "      <td>21</td>\n",
       "      <td>33</td>\n",
       "      <td>44</td>\n",
       "      <td>58</td>\n",
       "      <td>86</td>\n",
       "      <td>88</td>\n",
       "      <td>72</td>\n",
       "      <td>69</td>\n",
       "      <td>62</td>\n",
       "      <td>61</td>\n",
       "      <td>47</td>\n",
       "      <td>43</td>\n",
       "      <td>17</td>\n",
       "    </tr>\n",
       "  </tbody>\n",
       "</table>\n",
       "</div>"
      ],
      "text/plain": [
       "   label  0   1   2    3    4    5    6    7    8    9   10   11   12   13  \\\n",
       "0     15  2   7  19   46   61   72   80  116  139  158  146  129  113  125   \n",
       "1     15  2  82  75  224  340  372  531  528  537  656  553  343  255  245   \n",
       "2     13  1  11  52  194  325  306  488  558  469  599  492  325  291  249   \n",
       "3     15  4  10  29   60   94  109  146  178  156  175  164  127  110  108   \n",
       "4     15  1   0   0    7   21   33   44   58   86   88   72   69   62   61   \n",
       "\n",
       "    14   15  16  \n",
       "0  111   80  46  \n",
       "1  152  122  47  \n",
       "2  121   85  34  \n",
       "3  119   78  32  \n",
       "4   47   43  17  "
      ]
     },
     "execution_count": 73,
     "metadata": {},
     "output_type": "execute_result"
    }
   ],
   "source": [
    "# 혼잡도 데이터\n",
    "row_data_frame = pd.read_csv(\"./new_model_data.csv\", encoding = 'cp949',low_memory=False) \n",
    "row_data_frame.columns = ['label',0,1,2,3,4,5,6,7,8,9,10,11,12,13,14,15,16]\n",
    "row_data_frame.head()"
   ]
  },
  {
   "cell_type": "code",
   "execution_count": 74,
   "id": "c78aa565",
   "metadata": {},
   "outputs": [
    {
     "data": {
      "text/plain": [
       "1779"
      ]
     },
     "execution_count": 74,
     "metadata": {},
     "output_type": "execute_result"
    }
   ],
   "source": [
    "label_set = list(row_data_frame['label'])\n",
    "len(label_set)"
   ]
  },
  {
   "cell_type": "code",
   "execution_count": 75,
   "id": "730c801e",
   "metadata": {
    "scrolled": true
   },
   "outputs": [
    {
     "name": "stdout",
     "output_type": "stream",
     "text": [
      "[[0, 1, 2, 3, 4, 5, 6, 7, 8, 9, 10, 11, 12, 13, 14, 15, 16], [0, 8, 27, 71, 96, 114, 127, 186, 223, 255, 235, 207, 181, 201, 178, 127, 71]]\n",
      "\n",
      " [[0, 8, 27, 71, 96, 114, 127, 186, 223, 255, 235, 207, 181, 201, 178, 127, 71], [0, 31, 28, 86, 131, 144, 206, 205, 208, 255, 214, 132, 98, 94, 58, 46, 17], [0, 4, 21, 82, 138, 130, 207, 237, 199, 255, 209, 138, 123, 105, 51, 35, 14]]\n",
      "img_data 에 들어간 원소의 개수 : 1779\n"
     ]
    }
   ],
   "source": [
    "# 이미지데이터\n",
    "tmp_img_data = []\n",
    "with open('./rev_img_data.csv', mode = 'r', newline='') as img:\n",
    "    \n",
    "    #read TSP city map\n",
    "    reader = csv.reader(img)\n",
    "    for row in reader: # -> 가로 축으로 읽으므로 각 열 별로[x,y] 형태로 들어가게 된다\n",
    "        tmp_img_data.append(list(map(int,row[1:])))\n",
    "print(tmp_img_data[:2])\n",
    "tmp_img_data.pop(0) # time 부분 빼주기\n",
    "print(\"\\n\",tmp_img_data[:3])\n",
    "print('img_data 에 들어간 원소의 개수 :',len(tmp_img_data))"
   ]
  },
  {
   "cell_type": "markdown",
   "id": "75f239ea",
   "metadata": {},
   "source": [
    "# 이미지를 만들어주기"
   ]
  },
  {
   "cell_type": "code",
   "execution_count": 76,
   "id": "54af945d",
   "metadata": {},
   "outputs": [],
   "source": [
    "img_set = []\n",
    "for i in range (0, len(tmp_img_data)):    \n",
    "    tmp_img = []\n",
    "    for _ in range (0,10):\n",
    "        tmp_img.append(tmp_img_data[i])\n",
    "    img_set.append(np.array(tmp_img))"
   ]
  },
  {
   "cell_type": "code",
   "execution_count": 77,
   "id": "35961f77",
   "metadata": {},
   "outputs": [
    {
     "data": {
      "text/plain": [
       "[array([[  0,   8,  27,  71,  96, 114, 127, 186, 223, 255, 235, 207, 181,\n",
       "         201, 178, 127,  71],\n",
       "        [  0,   8,  27,  71,  96, 114, 127, 186, 223, 255, 235, 207, 181,\n",
       "         201, 178, 127,  71],\n",
       "        [  0,   8,  27,  71,  96, 114, 127, 186, 223, 255, 235, 207, 181,\n",
       "         201, 178, 127,  71],\n",
       "        [  0,   8,  27,  71,  96, 114, 127, 186, 223, 255, 235, 207, 181,\n",
       "         201, 178, 127,  71],\n",
       "        [  0,   8,  27,  71,  96, 114, 127, 186, 223, 255, 235, 207, 181,\n",
       "         201, 178, 127,  71],\n",
       "        [  0,   8,  27,  71,  96, 114, 127, 186, 223, 255, 235, 207, 181,\n",
       "         201, 178, 127,  71],\n",
       "        [  0,   8,  27,  71,  96, 114, 127, 186, 223, 255, 235, 207, 181,\n",
       "         201, 178, 127,  71],\n",
       "        [  0,   8,  27,  71,  96, 114, 127, 186, 223, 255, 235, 207, 181,\n",
       "         201, 178, 127,  71],\n",
       "        [  0,   8,  27,  71,  96, 114, 127, 186, 223, 255, 235, 207, 181,\n",
       "         201, 178, 127,  71],\n",
       "        [  0,   8,  27,  71,  96, 114, 127, 186, 223, 255, 235, 207, 181,\n",
       "         201, 178, 127,  71]]),\n",
       " array([[  0,  31,  28,  86, 131, 144, 206, 205, 208, 255, 214, 132,  98,\n",
       "          94,  58,  46,  17],\n",
       "        [  0,  31,  28,  86, 131, 144, 206, 205, 208, 255, 214, 132,  98,\n",
       "          94,  58,  46,  17],\n",
       "        [  0,  31,  28,  86, 131, 144, 206, 205, 208, 255, 214, 132,  98,\n",
       "          94,  58,  46,  17],\n",
       "        [  0,  31,  28,  86, 131, 144, 206, 205, 208, 255, 214, 132,  98,\n",
       "          94,  58,  46,  17],\n",
       "        [  0,  31,  28,  86, 131, 144, 206, 205, 208, 255, 214, 132,  98,\n",
       "          94,  58,  46,  17],\n",
       "        [  0,  31,  28,  86, 131, 144, 206, 205, 208, 255, 214, 132,  98,\n",
       "          94,  58,  46,  17],\n",
       "        [  0,  31,  28,  86, 131, 144, 206, 205, 208, 255, 214, 132,  98,\n",
       "          94,  58,  46,  17],\n",
       "        [  0,  31,  28,  86, 131, 144, 206, 205, 208, 255, 214, 132,  98,\n",
       "          94,  58,  46,  17],\n",
       "        [  0,  31,  28,  86, 131, 144, 206, 205, 208, 255, 214, 132,  98,\n",
       "          94,  58,  46,  17],\n",
       "        [  0,  31,  28,  86, 131, 144, 206, 205, 208, 255, 214, 132,  98,\n",
       "          94,  58,  46,  17]]),\n",
       " array([[  0,   4,  21,  82, 138, 130, 207, 237, 199, 255, 209, 138, 123,\n",
       "         105,  51,  35,  14],\n",
       "        [  0,   4,  21,  82, 138, 130, 207, 237, 199, 255, 209, 138, 123,\n",
       "         105,  51,  35,  14],\n",
       "        [  0,   4,  21,  82, 138, 130, 207, 237, 199, 255, 209, 138, 123,\n",
       "         105,  51,  35,  14],\n",
       "        [  0,   4,  21,  82, 138, 130, 207, 237, 199, 255, 209, 138, 123,\n",
       "         105,  51,  35,  14],\n",
       "        [  0,   4,  21,  82, 138, 130, 207, 237, 199, 255, 209, 138, 123,\n",
       "         105,  51,  35,  14],\n",
       "        [  0,   4,  21,  82, 138, 130, 207, 237, 199, 255, 209, 138, 123,\n",
       "         105,  51,  35,  14],\n",
       "        [  0,   4,  21,  82, 138, 130, 207, 237, 199, 255, 209, 138, 123,\n",
       "         105,  51,  35,  14],\n",
       "        [  0,   4,  21,  82, 138, 130, 207, 237, 199, 255, 209, 138, 123,\n",
       "         105,  51,  35,  14],\n",
       "        [  0,   4,  21,  82, 138, 130, 207, 237, 199, 255, 209, 138, 123,\n",
       "         105,  51,  35,  14],\n",
       "        [  0,   4,  21,  82, 138, 130, 207, 237, 199, 255, 209, 138, 123,\n",
       "         105,  51,  35,  14]]),\n",
       " array([[  0,   8,  36,  82, 131, 153, 208, 255, 222, 250, 234, 180, 155,\n",
       "         152, 168, 108,  41],\n",
       "        [  0,   8,  36,  82, 131, 153, 208, 255, 222, 250, 234, 180, 155,\n",
       "         152, 168, 108,  41],\n",
       "        [  0,   8,  36,  82, 131, 153, 208, 255, 222, 250, 234, 180, 155,\n",
       "         152, 168, 108,  41],\n",
       "        [  0,   8,  36,  82, 131, 153, 208, 255, 222, 250, 234, 180, 155,\n",
       "         152, 168, 108,  41],\n",
       "        [  0,   8,  36,  82, 131, 153, 208, 255, 222, 250, 234, 180, 155,\n",
       "         152, 168, 108,  41],\n",
       "        [  0,   8,  36,  82, 131, 153, 208, 255, 222, 250, 234, 180, 155,\n",
       "         152, 168, 108,  41],\n",
       "        [  0,   8,  36,  82, 131, 153, 208, 255, 222, 250, 234, 180, 155,\n",
       "         152, 168, 108,  41],\n",
       "        [  0,   8,  36,  82, 131, 153, 208, 255, 222, 250, 234, 180, 155,\n",
       "         152, 168, 108,  41],\n",
       "        [  0,   8,  36,  82, 131, 153, 208, 255, 222, 250, 234, 180, 155,\n",
       "         152, 168, 108,  41],\n",
       "        [  0,   8,  36,  82, 131, 153, 208, 255, 222, 250, 234, 180, 155,\n",
       "         152, 168, 108,  41]])]"
      ]
     },
     "execution_count": 77,
     "metadata": {},
     "output_type": "execute_result"
    }
   ],
   "source": [
    "img_set[:4]"
   ]
  },
  {
   "cell_type": "code",
   "execution_count": 78,
   "id": "ba0c58b0",
   "metadata": {},
   "outputs": [],
   "source": [
    "img_set = np.array(img_set)\n",
    "label_set = np.array(label_set)"
   ]
  },
  {
   "cell_type": "code",
   "execution_count": 79,
   "id": "d138fb36",
   "metadata": {},
   "outputs": [
    {
     "data": {
      "text/plain": [
       "(1779, 1779)"
      ]
     },
     "execution_count": 79,
     "metadata": {},
     "output_type": "execute_result"
    }
   ],
   "source": [
    "len(img_set),len(label_set)"
   ]
  },
  {
   "cell_type": "markdown",
   "id": "c97cc311",
   "metadata": {},
   "source": [
    "# train data 와 test data 만들기"
   ]
  },
  {
   "cell_type": "markdown",
   "id": "b49d9ff6",
   "metadata": {},
   "source": [
    "6:2:2 -> train : 1067  vaild : 356  test: 356\n",
    "\n",
    "4:3:3  -> train : 713  vaild : 533  test: 533\n",
    "\n",
    "5:2:3   -> train : 890  vaild : 356  test: 533"
   ]
  },
  {
   "cell_type": "code",
   "execution_count": 80,
   "id": "74417763",
   "metadata": {},
   "outputs": [],
   "source": [
    "########################################\n",
    "NUM_VAL_TRAIN = 1067 + 356\n",
    "########################################\n",
    "X_val_train = img_set[:NUM_VAL_TRAIN]\n",
    "Y_val_train = label_set[:NUM_VAL_TRAIN]\n",
    "X_test = img_set[NUM_VAL_TRAIN:]\n",
    "Y_test = label_set[NUM_VAL_TRAIN:]"
   ]
  },
  {
   "cell_type": "code",
   "execution_count": 81,
   "id": "1bbefb7d",
   "metadata": {},
   "outputs": [
    {
     "data": {
      "text/plain": [
       "(1423, 1423, 356, 356)"
      ]
     },
     "execution_count": 81,
     "metadata": {},
     "output_type": "execute_result"
    }
   ],
   "source": [
    "len(X_val_train),len(Y_val_train),len(X_test),len(Y_test)"
   ]
  },
  {
   "cell_type": "code",
   "execution_count": 82,
   "id": "f61ecd61",
   "metadata": {},
   "outputs": [
    {
     "data": {
      "text/plain": [
       "<matplotlib.image.AxesImage at 0x16c93e70670>"
      ]
     },
     "execution_count": 82,
     "metadata": {},
     "output_type": "execute_result"
    },
    {
     "data": {
      "image/png": "[encoded data removed]",
      "text/plain": [
       "<Figure size 432x288 with 1 Axes>"
      ]
     },
     "metadata": {
      "needs_background": "light"
     },
     "output_type": "display_data"
    }
   ],
   "source": [
    "plt.imshow(X_val_train[0])"
   ]
  },
  {
   "cell_type": "code",
   "execution_count": 83,
   "id": "361a4980",
   "metadata": {},
   "outputs": [
    {
     "data": {
      "text/plain": [
       "((1423, 10, 17), (1423,))"
      ]
     },
     "execution_count": 83,
     "metadata": {},
     "output_type": "execute_result"
    }
   ],
   "source": [
    "X_val_train.shape,Y_val_train.shape"
   ]
  },
  {
   "cell_type": "code",
   "execution_count": 84,
   "id": "a65736d5",
   "metadata": {},
   "outputs": [
    {
     "name": "stdout",
     "output_type": "stream",
     "text": [
      "[[  0   8  27  71  96 114 127 186 223 255 235 207 181 201 178 127  71]\n",
      " [  0   8  27  71  96 114 127 186 223 255 235 207 181 201 178 127  71]\n",
      " [  0   8  27  71  96 114 127 186 223 255 235 207 181 201 178 127  71]\n",
      " [  0   8  27  71  96 114 127 186 223 255 235 207 181 201 178 127  71]\n",
      " [  0   8  27  71  96 114 127 186 223 255 235 207 181 201 178 127  71]\n",
      " [  0   8  27  71  96 114 127 186 223 255 235 207 181 201 178 127  71]\n",
      " [  0   8  27  71  96 114 127 186 223 255 235 207 181 201 178 127  71]\n",
      " [  0   8  27  71  96 114 127 186 223 255 235 207 181 201 178 127  71]\n",
      " [  0   8  27  71  96 114 127 186 223 255 235 207 181 201 178 127  71]\n",
      " [  0   8  27  71  96 114 127 186 223 255 235 207 181 201 178 127  71]]\n"
     ]
    }
   ],
   "source": [
    "print(X_val_train[0])"
   ]
  },
  {
   "cell_type": "markdown",
   "id": "2eebdb59",
   "metadata": {},
   "source": [
    "# 픽셀화를 적용해주자"
   ]
  },
  {
   "cell_type": "code",
   "execution_count": 91,
   "id": "c4bad567",
   "metadata": {},
   "outputs": [
    {
     "data": {
      "text/plain": [
       "<matplotlib.image.AxesImage at 0x16ca374a0a0>"
      ]
     },
     "execution_count": 91,
     "metadata": {},
     "output_type": "execute_result"
    },
    {
     "data": {
      "image/png": "[encoded data removed]",
      "text/plain": [
       "<Figure size 432x288 with 1 Axes>"
      ]
     },
     "metadata": {
      "needs_background": "light"
     },
     "output_type": "display_data"
    }
   ],
   "source": [
    "X_val_train = X_val_train.reshape(len(X_val_train),10,17,1)\n",
    "X_test.reshape(len(X_test),10,17,1)\n",
    "plt.imshow(X_val_train[0])"
   ]
  },
  {
   "cell_type": "code",
   "execution_count": 92,
   "id": "99dbeb96",
   "metadata": {},
   "outputs": [
    {
     "data": {
      "text/plain": [
       "array([[[  0],\n",
       "        [  8],\n",
       "        [ 27],\n",
       "        [ 71],\n",
       "        [ 96],\n",
       "        [114],\n",
       "        [127],\n",
       "        [186],\n",
       "        [223],\n",
       "        [255],\n",
       "        [235],\n",
       "        [207],\n",
       "        [181],\n",
       "        [201],\n",
       "        [178],\n",
       "        [127],\n",
       "        [ 71]],\n",
       "\n",
       "       [[  0],\n",
       "        [  8],\n",
       "        [ 27],\n",
       "        [ 71],\n",
       "        [ 96],\n",
       "        [114],\n",
       "        [127],\n",
       "        [186],\n",
       "        [223],\n",
       "        [255],\n",
       "        [235],\n",
       "        [207],\n",
       "        [181],\n",
       "        [201],\n",
       "        [178],\n",
       "        [127],\n",
       "        [ 71]]])"
      ]
     },
     "execution_count": 92,
     "metadata": {},
     "output_type": "execute_result"
    }
   ],
   "source": [
    "X_val_train[0][:2]"
   ]
  },
  {
   "cell_type": "code",
   "execution_count": 94,
   "id": "53e09616",
   "metadata": {},
   "outputs": [
    {
     "data": {
      "text/plain": [
       "((1423, 10, 17, 1), (1423,))"
      ]
     },
     "execution_count": 94,
     "metadata": {},
     "output_type": "execute_result"
    }
   ],
   "source": [
    "X_val_train.shape,Y_val_train.shape"
   ]
  },
  {
   "cell_type": "code",
   "execution_count": 111,
   "id": "168a53cc",
   "metadata": {},
   "outputs": [
    {
     "data": {
      "text/plain": [
       "14"
      ]
     },
     "execution_count": 111,
     "metadata": {},
     "output_type": "execute_result"
    }
   ],
   "source": [
    "unique, count = np.unique(label_set,return_counts = True)\n",
    "len(unique)"
   ]
  },
  {
   "cell_type": "code",
   "execution_count": 119,
   "id": "373274e1",
   "metadata": {},
   "outputs": [
    {
     "name": "stdout",
     "output_type": "stream",
     "text": [
      "15\n"
     ]
    },
    {
     "data": {
      "text/plain": [
       "array([0., 0., 0., 0., 0., 0., 1., 0., 0., 0., 0., 0., 0., 0.],\n",
       "      dtype=float32)"
      ]
     },
     "execution_count": 119,
     "metadata": {},
     "output_type": "execute_result"
    }
   ],
   "source": [
    "print(Y_val_train[0])\n",
    "from tensorflow.keras.utils import to_categorical\n",
    "Y_val_train = to_categorical(train_labels, 14)\n",
    "Y_test= to_categorical(test_labels, 14)\n",
    "Y_val_train[0]"
   ]
  },
  {
   "cell_type": "code",
   "execution_count": 100,
   "id": "533aef1e",
   "metadata": {},
   "outputs": [],
   "source": [
    "from tensorflow.keras.models import Sequential\n",
    "from tensorflow.keras import layers\n",
    "\n",
    "##################\n",
    "BATCH_SIZE = 10\n",
    "EPOCH=10, \n",
    "VAILD=0.2 # 0.8은 train\n",
    "#############################"
   ]
  },
  {
   "cell_type": "code",
   "execution_count": 120,
   "id": "312f2887",
   "metadata": {},
   "outputs": [
    {
     "name": "stdout",
     "output_type": "stream",
     "text": [
      "Model: \"sequential_8\"\n",
      "_________________________________________________________________\n",
      "Layer (type)                 Output Shape              Param #   \n",
      "=================================================================\n",
      "conv2d_7 (Conv2D)            (None, 10, 17, 8)         136       \n",
      "_________________________________________________________________\n",
      "max_pooling2d_7 (MaxPooling2 (None, 5, 8, 8)           0         \n",
      "_________________________________________________________________\n",
      "flatten_7 (Flatten)          (None, 320)               0         \n",
      "_________________________________________________________________\n",
      "dense_7 (Dense)              (None, 14)                4494      \n",
      "=================================================================\n",
      "Total params: 4,630\n",
      "Trainable params: 4,630\n",
      "Non-trainable params: 0\n",
      "_________________________________________________________________\n"
     ]
    }
   ],
   "source": [
    "img_height = 10\n",
    "img_width = 17\n",
    "model = Sequential()\n",
    "model.add(tf.keras.layers.Conv2D(filters=8, kernel_size=4, padding='same', strides=1, activation='relu', input_shape=(img_height,img_width,1)))\n",
    "model.add(tf.keras.layers.MaxPool2D(pool_size=2))\n",
    "#model.add(tf.keras.layers.Conv2D(filters=32, kernel_size=4, padding='same', strides=1, activation='relu'))\n",
    "#model.add(tf.keras.layers.MaxPool2D(pool_size=2))\n",
    "#model.add(tf.keras.layers.Conv2D(filters=64, kernel_size=4, padding='same', strides=1, activation='relu'))\n",
    "#model.add(tf.keras.layers.MaxPool2D(pool_size=2))\n",
    "model.add(tf.keras.layers.Flatten())\n",
    "#model.add(tf.keras.layers.Dense(512, activation='relu'))\n",
    "model.add(tf.keras.layers.Dense(len(unique), activation='softmax'))\n",
    "model.summary()\n",
    "\n",
    "model.compile(loss='categorical_crossentropy', optimizer='adam', metrics=['accuracy'])"
   ]
  },
  {
   "cell_type": "code",
   "execution_count": null,
   "id": "48408e16",
   "metadata": {},
   "outputs": [
    {
     "name": "stdout",
     "output_type": "stream",
     "text": [
      "Epoch 1/10\n"
     ]
    }
   ],
   "source": [
    "model.fit(X_val_train, Y_val_train, batch_size=BATCH_SIZE, epochs=10, validation_split=0.2)"
   ]
  },
  {
   "cell_type": "code",
   "execution_count": null,
   "id": "6bd5a92a",
   "metadata": {},
   "outputs": [],
   "source": []
  }
 ],
 "metadata": {
  "kernelspec": {
   "display_name": "ai_project2",
   "language": "python",
   "name": "ai_project2"
  },
  "language_info": {
   "codemirror_mode": {
    "name": "ipython",
    "version": 3
   },
   "file_extension": ".py",
   "mimetype": "text/x-python",
   "name": "python",
   "nbconvert_exporter": "python",
   "pygments_lexer": "ipython3",
   "version": "3.8.13"
  }
 },
 "nbformat": 4,
 "nbformat_minor": 5
}
