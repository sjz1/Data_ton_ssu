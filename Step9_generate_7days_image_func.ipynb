{
 "cells": [
  {
   "cell_type": "code",
   "execution_count": 3,
   "id": "d4d63201",
   "metadata": {},
   "outputs": [],
   "source": [
    "import keras\n",
    "from tensorflow.keras.models import Sequential\n",
    "from tensorflow.keras import layers\n",
    "from tensorflow.keras.layers import Flatten, Conv2D, MaxPool2D\n",
    "from tensorflow.keras.callbacks import EarlyStopping\n",
    "from tensorflow.keras.callbacks import ModelCheckpoint\n",
    "from tensorflow.keras import layers\n",
    "import tensorflow as tf\n",
    "import numpy as np\n",
    "import csv\n",
    "import matplotlib.pyplot as plt\n",
    "import pandas as pd"
   ]
  },
  {
   "cell_type": "code",
   "execution_count": null,
   "id": "e799e44d",
   "metadata": {},
   "outputs": [],
   "source": [
    "from google.colab import drive\n",
    "drive.mount('/content/gdrive/')"
   ]
  },
  {
   "cell_type": "code",
   "execution_count": 4,
   "id": "ff459497",
   "metadata": {},
   "outputs": [],
   "source": [
    "def min_max_normalization(x,lst,i): #검정색일 수록 높은 숫자이도록\n",
    "    return 255 - int(( (x-min(lst[i]))/(max(lst[i]) - min(lst[i])) )*255)\n",
    "\n",
    "\n",
    "#def function_name(var_name: var_type) -> return_type:\n",
    "''' csv 파일을 넣으면 당일날 포함 과거 7개의 데이터를 layered한 데이터를 return 해준다\n",
    "단, 첫번째에서 6번째까지는 과거의 기록이 없기에 그냥 같은 층으로 연장시켜 준다 (17, 14) 사이즈로'''\n",
    "'''So please unpacking this function in two img and label'''\n",
    "def make_layered_img(correct_file_name : str) -> list: #return이 list두개임\n",
    "    row_data_frame = pd.read_csv(\"./\"+correct_file_name+\".csv\", encoding = 'cp949',low_memory=False)\n",
    "    row_data_frame.columns = ['label',0,1,2,3,4,5,6,7,8,9,10,11,12,13,14,15,16] #string -> int\n",
    "    #Normalization 해주고 255 픽셀화를 해주자\n",
    "    data_set = []\n",
    "    for idx in row_data_frame.index:\n",
    "        data_set.append([])\n",
    "        for time in row_data_frame.columns[1:]: #아래 방향으로 뽑아냄    \n",
    "            data_set[idx].append(row_data_frame[time][idx])\n",
    "    \n",
    "    for lst_num in range (0,len(data_set)):\n",
    "        #print(lst_num)<- error가 날때 검사용 \n",
    "        data_set[lst_num] = list(map(lambda x: min_max_normalization(x,data_set,lst_num), data_set[lst_num])) \n",
    "    \n",
    "    #에러 방지 코드\n",
    "    if len(row_data_frame[\"label\"]) != len(data_set):\n",
    "        print('The make_layer_img has errors So, return [\"\"],[\"\"] ')\n",
    "        return [], []\n",
    "    else:\n",
    "        print(\" The make_layer_img function Successfully already, now make img \\n\")        \n",
    "        print(len(data_set))\n",
    "    # layered img를 만들어주자\n",
    "    img_lst = []\n",
    "    label_lst = []\n",
    "    for data_idx in range (0, len(data_set)):\n",
    "        #print(data_idx)\n",
    "        tmp_img = [] #방을 만들어주기\n",
    "        \n",
    "        #먼저 예외 처리 (과거의 데이터가 5개가 되지 않을 경우)\n",
    "        if data_idx < 6: # 0~ 5 -> 최대 개수 5일때 6개\n",
    "            for _ in range (0,14):\n",
    "                tmp_img.append(data_set[data_idx])\n",
    "            \n",
    "        else:\n",
    "            #이 부분에서 데이터가 한개가 빠짐\n",
    "            if data_idx == len(data_set)-1: #마지막놈은 다음 놈의 label이없으니깐\n",
    "                                          #<- 애초에 이미지 데이터를 만들지 않겠다\n",
    "                print(\"The length of img : \", len(img_lst), \"The length of label label\", len(label_lst))\n",
    "                print(\"Success for makinng img and label \\nSo please unpacking with img,label\")\n",
    "                return np.array(img_lst),np.array(label_lst) # 함수가 끝나는 지점 \n",
    "                    \n",
    "            for di in range (data_idx-6,data_idx+1): # data_idx -6 ~ data_idx 까지\n",
    "                #같은 레이어 두개씩 쌓기\n",
    "                tmp_img.append(data_set[di])\n",
    "                tmp_img.append(data_set[di]) \n",
    "                 \n",
    "                \n",
    "        label_lst.append(row_data_frame[\"label\"][data_idx+1]) #다음녀석의 label을 idx로 사용\n",
    "        img_lst.append(np.array(tmp_img))\n",
    "        \n",
    "    return print(\"Something is Wrong with make_layered img\") #위에 if문에 걸리지 않았음"
   ]
  },
  {
   "cell_type": "code",
   "execution_count": 5,
   "id": "1354ed82",
   "metadata": {},
   "outputs": [
    {
     "name": "stdout",
     "output_type": "stream",
     "text": [
      " The make_layer_img function Successfully already, now make img \n",
      "\n",
      "1782\n",
      "The length of img :  1781 The length of label label 1781\n",
      "Success for makinng img and label \n",
      "So please unpacking with img,label\n"
     ]
    }
   ],
   "source": [
    "img_set,label_set = make_layered_img(\"correct_data\")\n",
    "real_label_name, count = np.unique(label_set,return_counts = True) #진짜 label명을 따로 저장하기 [0~13]으로 이름 다시 매길거여서"
   ]
  },
  {
   "cell_type": "markdown",
   "id": "5ccd70e1",
   "metadata": {},
   "source": [
    "# 모델을 위해 데이터를 가공시키기 X-> 픽셀화 Y-> 카테고리화"
   ]
  },
  {
   "cell_type": "code",
   "execution_count": 8,
   "id": "b746cf28",
   "metadata": {},
   "outputs": [
    {
     "name": "stdout",
     "output_type": "stream",
     "text": [
      "\n",
      "------------------------------ X Pixelization ( 1781 ,14,17,1) ------------------------------\n",
      "\n",
      "[[[255]\n",
      "  [247]\n",
      "  [228]\n",
      "  [184]\n",
      "  [159]\n",
      "  [141]\n",
      "  [128]\n",
      "  [ 69]\n",
      "  [ 32]\n",
      "  [  0]\n",
      "  [ 20]\n",
      "  [ 48]\n",
      "  [ 74]\n",
      "  [ 54]\n",
      "  [ 77]\n",
      "  [128]\n",
      "  [184]]\n",
      "\n",
      " [[255]\n",
      "  [247]\n",
      "  [228]\n",
      "  [184]\n",
      "  [159]\n",
      "  [141]\n",
      "  [128]\n",
      "  [ 69]\n",
      "  [ 32]\n",
      "  [  0]\n",
      "  [ 20]\n",
      "  [ 48]\n",
      "  [ 74]\n",
      "  [ 54]\n",
      "  [ 77]\n",
      "  [128]\n",
      "  [184]]\n",
      "\n",
      " [[255]\n",
      "  [224]\n",
      "  [227]\n",
      "  [169]\n",
      "  [124]\n",
      "  [111]\n",
      "  [ 49]\n",
      "  [ 50]\n",
      "  [ 47]\n",
      "  [  0]\n",
      "  [ 41]\n",
      "  [123]\n",
      "  [157]\n",
      "  [161]\n",
      "  [197]\n",
      "  [209]\n",
      "  [238]]]\n",
      "\n",
      "---------------------------------- Y Categorical ----------------------------------\n",
      "\n",
      "Before Categorical :  8\n",
      "After Categorical :  [0. 0. 0. 0. 0. 0. 0. 0. 1. 0. 0. 0. 0. 0.]\n",
      "Real_time_set     :  [ 6  8  9 10 11 12 13 14 15 16 17 18 19 20]\n",
      "model_label_set  :  [ 0  1  2  3  4  5  6  7  8  9 10 11 12 13]\n"
     ]
    }
   ],
   "source": [
    "#X를 픽셀화 시켜주기\n",
    "print(\"\\n------------------------------ X Pixelization (\",len(img_set),\",14,17,1) ------------------------------\\n\")\n",
    "X_set = img_set.reshape(len(img_set),14,17,1)\n",
    "print(X_set[6][:3])\n",
    "\n",
    "#Y를 categorical \n",
    "print(\"\\n---------------------------------- Y Categorical ----------------------------------\\n\")\n",
    "model_label_set = []\n",
    "for i in range (0,len(label_set)):\n",
    "    if label_set[i] == 6:\n",
    "        model_label_set.append(0)\n",
    "    else:\n",
    "        model_label_set.append(label_set[i]-7)\n",
    "a, count = np.unique(model_label_set,return_counts = True)\n",
    "b, count2 = np.unique(label_set,return_counts = True)\n",
    "\n",
    "\n",
    "print(\"Before Categorical : \",model_label_set[0])\n",
    "from tensorflow.keras.utils import to_categorical\n",
    "Y_set = to_categorical(model_label_set, 14)\n",
    "print(\"After Categorical : \", Y_set[0])\n",
    "print(\"Real_time_set     : \",b)\n",
    "print(\"model_label_set  : \",a)"
   ]
  },
  {
   "cell_type": "markdown",
   "id": "c2202355",
   "metadata": {},
   "source": [
    "# 데이터 검증"
   ]
  },
  {
   "cell_type": "code",
   "execution_count": 9,
   "id": "642294fb",
   "metadata": {},
   "outputs": [
    {
     "name": "stdout",
     "output_type": "stream",
     "text": [
      "[0. 0. 0. 0. 0. 0. 0. 0. 0. 1. 0. 0. 0. 0.]\n"
     ]
    },
    {
     "data": {
      "text/plain": [
       "<matplotlib.image.AxesImage at 0x2a4c9b09ac0>"
      ]
     },
     "execution_count": 9,
     "metadata": {},
     "output_type": "execute_result"
    },
    {
     "data": {
      "image/png": "[encoded data removed]",
      "text/plain": [
       "<Figure size 432x288 with 1 Axes>"
      ]
     },
     "metadata": {
      "needs_background": "light"
     },
     "output_type": "display_data"
    }
   ],
   "source": [
    "#실제 그림에서 찾고 싶으면 x축에 6을 더하고 (6~22 -> 0~16) 7을 빼주면(8~20 -> 1~13) 된다, 즉 x에서 -1을 해주면 label이 나온다\n",
    "print(Y_set[10])\n",
    "plt.imshow(X_set[10])#,cmap= \"gray\")\n",
    "\n",
    "#즉 이 경우 9 이므로 다음 놈이 10에서 가장 찐할 것이다 이 그림의 맨 밑이랑 상관 x"
   ]
  },
  {
   "cell_type": "code",
   "execution_count": 19,
   "id": "c043d504",
   "metadata": {},
   "outputs": [
    {
     "name": "stdout",
     "output_type": "stream",
     "text": [
      "[0. 0. 0. 0. 0. 0. 0. 0. 0. 1. 0. 0. 0. 0.]\n"
     ]
    },
    {
     "data": {
      "text/plain": [
       "<matplotlib.image.AxesImage at 0x2a4ca8e8610>"
      ]
     },
     "execution_count": 19,
     "metadata": {},
     "output_type": "execute_result"
    },
    {
     "data": {
      "image/png": "[encoded data removed]",
      "text/plain": [
       "<Figure size 360x360 with 1 Axes>"
      ]
     },
     "metadata": {
      "needs_background": "light"
     },
     "output_type": "display_data"
    },
    {
     "data": {
      "image/png": "[encoded data removed]",
      "text/plain": [
       "<Figure size 360x360 with 1 Axes>"
      ]
     },
     "metadata": {
      "needs_background": "light"
     },
     "output_type": "display_data"
    },
    {
     "data": {
      "image/png": "[encoded data removed]",
      "text/plain": [
       "<Figure size 360x360 with 1 Axes>"
      ]
     },
     "metadata": {
      "needs_background": "light"
     },
     "output_type": "display_data"
    },
    {
     "data": {
      "image/png": "[encoded data removed]",
      "text/plain": [
       "<Figure size 360x360 with 1 Axes>"
      ]
     },
     "metadata": {
      "needs_background": "light"
     },
     "output_type": "display_data"
    }
   ],
   "source": [
    "#실제 그림에서 찾고 싶으면 x축에 6을 더하고 (6~22 -> 0~16) 7을 빼주면(8~20 -> 1~13) 된다, 즉 x에서 -1을 해주면 label이 나온다\n",
    "print(Y_set[10])\n",
    "plt.figure(figsize = (5,5))\n",
    "plt.imshow(X_set[13],cmap= \"gray\")\n",
    "plt.figure(figsize = (5,5))\n",
    "plt.imshow(X_set[15],cmap= \"gray\")\n",
    "plt.figure(figsize = (5,5))\n",
    "plt.imshow(X_set[200],cmap= \"gray\")\n",
    "plt.figure(figsize = (5,5))\n",
    "plt.imshow(X_set[10],cmap= \"gray\")\n",
    "#즉 이 경우 9 이므로 다음 놈이 10에서 가장 찐할 것이다 이 그림의 맨 밑이랑 상관 x"
   ]
  },
  {
   "cell_type": "code",
   "execution_count": 10,
   "id": "b3a6abe5",
   "metadata": {},
   "outputs": [
    {
     "data": {
      "text/plain": [
       "<matplotlib.image.AxesImage at 0x2a4ca06edf0>"
      ]
     },
     "execution_count": 10,
     "metadata": {},
     "output_type": "execute_result"
    },
    {
     "data": {
      "image/png": "[encoded data removed]",
      "text/plain": [
       "<Figure size 432x288 with 1 Axes>"
      ]
     },
     "metadata": {
      "needs_background": "light"
     },
     "output_type": "display_data"
    }
   ],
   "source": [
    "plt.imshow(X_set[11][11:13],cmap= \"gray\")"
   ]
  },
  {
   "cell_type": "code",
   "execution_count": 11,
   "id": "6a7bf284",
   "metadata": {},
   "outputs": [
    {
     "data": {
      "text/plain": [
       "array([[255],\n",
       "       [254],\n",
       "       [248],\n",
       "       [234],\n",
       "       [209],\n",
       "       [194],\n",
       "       [151],\n",
       "       [105],\n",
       "       [ 45],\n",
       "       [ 10],\n",
       "       [  0],\n",
       "       [ 80],\n",
       "       [ 33],\n",
       "       [ 37],\n",
       "       [ 66],\n",
       "       [ 87],\n",
       "       [155]])"
      ]
     },
     "execution_count": 11,
     "metadata": {},
     "output_type": "execute_result"
    }
   ],
   "source": [
    "X_set[11][13] "
   ]
  },
  {
   "cell_type": "markdown",
   "id": "e8145bd9",
   "metadata": {},
   "source": [
    "# Train과 Test set 나누기"
   ]
  },
  {
   "cell_type": "code",
   "execution_count": 12,
   "id": "a9595e8e",
   "metadata": {},
   "outputs": [
    {
     "name": "stdout",
     "output_type": "stream",
     "text": [
      "1424 1424 357 357\n"
     ]
    }
   ],
   "source": [
    "if (len(X_set) == len(Y_set)): #나누기전에 확인하는 조건 \n",
    "    \n",
    "    ######################\n",
    "    PER_TRAIN = 0.8 #Train 과 Test 8:2 로 나누겠다는 소리\n",
    "    ######################\n",
    "    \n",
    "    X_train, Y_train = X_set[:int(len(X_set)*PER_TRAIN)], Y_set[:int(len(X_set)*PER_TRAIN)]\n",
    "    X_test, Y_test = X_set[int(len(X_set)*PER_TRAIN):], Y_set[int(len(X_set)*PER_TRAIN):]\n",
    "    print(len(X_train),len(Y_train),len(X_test),len(Y_test))"
   ]
  },
  {
   "cell_type": "code",
   "execution_count": 13,
   "id": "69b56bfa",
   "metadata": {},
   "outputs": [
    {
     "name": "stdout",
     "output_type": "stream",
     "text": [
      "(1424, 14, 17, 1)\n",
      "(1424, 14)\n"
     ]
    }
   ],
   "source": [
    "print(X_train.shape)\n",
    "print(Y_train.shape)"
   ]
  },
  {
   "cell_type": "markdown",
   "id": "5c419f51",
   "metadata": {},
   "source": [
    "# Model 만들기"
   ]
  },
  {
   "cell_type": "code",
   "execution_count": 14,
   "id": "71220da6",
   "metadata": {},
   "outputs": [
    {
     "name": "stdout",
     "output_type": "stream",
     "text": [
      "Model: \"sequential\"\n",
      "_________________________________________________________________\n",
      " Layer (type)                Output Shape              Param #   \n",
      "=================================================================\n",
      " batch_normalization (BatchN  (None, 15, 17, 1)        4         \n",
      " ormalization)                                                   \n",
      "                                                                 \n",
      " conv2d (Conv2D)             (None, 15, 17, 16)        160       \n",
      "                                                                 \n",
      " batch_normalization_1 (Batc  (None, 15, 17, 16)       64        \n",
      " hNormalization)                                                 \n",
      "                                                                 \n",
      " conv2d_1 (Conv2D)           (None, 15, 17, 32)        4640      \n",
      "                                                                 \n",
      " batch_normalization_2 (Batc  (None, 15, 17, 32)       128       \n",
      " hNormalization)                                                 \n",
      "                                                                 \n",
      " conv2d_2 (Conv2D)           (None, 15, 17, 64)        18496     \n",
      "                                                                 \n",
      " max_pooling2d (MaxPooling2D  (None, 5, 5, 64)         0         \n",
      " )                                                               \n",
      "                                                                 \n",
      " flatten (Flatten)           (None, 1600)              0         \n",
      "                                                                 \n",
      " dense (Dense)               (None, 14)                22414     \n",
      "                                                                 \n",
      "=================================================================\n",
      "Total params: 45,906\n",
      "Trainable params: 45,808\n",
      "Non-trainable params: 98\n",
      "_________________________________________________________________\n"
     ]
    }
   ],
   "source": [
    "img_height = 15\n",
    "img_width = 17\n",
    "model = Sequential()\n",
    "\n",
    "model.add(layers.BatchNormalization(input_shape=(img_height, img_width , 1)))\n",
    "model.add(layers.Conv2D(filters=16, kernel_size=(3, 3), padding=\"same\", activation='relu'))\n",
    "\n",
    "model.add(layers.BatchNormalization())\n",
    "model.add(layers.Conv2D(filters=32, kernel_size=(3, 3), padding=\"same\", activation='relu'))\n",
    "\n",
    "model.add(layers.BatchNormalization())\n",
    "model.add(layers.Conv2D(filters=64, kernel_size=(3, 3), padding=\"same\", activation='relu'))\n",
    "\n",
    "model.add(MaxPool2D(pool_size=(3, 3)))\n",
    "model.add(Flatten())\n",
    "\n",
    "model.add(layers.Dense(14, activation='softmax'))\n",
    "model.summary()\n",
    "\n",
    "optimizer = tf.keras.optimizers.Adam(learning_rate=0.01)\n",
    "model.compile(loss='categorical_crossentropy', optimizer=optimizer , metrics=['accuracy'])"
   ]
  },
  {
   "cell_type": "code",
   "execution_count": null,
   "id": "d78e7bf0",
   "metadata": {},
   "outputs": [],
   "source": [
    "#전체 1424 개\n",
    "classifier = model.fit(X_train, Y_train, batch_size=64, epochs=100, validation_split=0.2)"
   ]
  }
 ],
 "metadata": {
  "kernelspec": {
   "display_name": "Python 3",
   "language": "python",
   "name": "python3"
  },
  "language_info": {
   "codemirror_mode": {
    "name": "ipython",
    "version": 3
   },
   "file_extension": ".py",
   "mimetype": "text/x-python",
   "name": "python",
   "nbconvert_exporter": "python",
   "pygments_lexer": "ipython3",
   "version": "3.8.8"
  }
 },
 "nbformat": 4,
 "nbformat_minor": 5
}
