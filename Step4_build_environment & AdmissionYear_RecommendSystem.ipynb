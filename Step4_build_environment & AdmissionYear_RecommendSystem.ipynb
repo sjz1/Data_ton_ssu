{
 "cells": [
  {
   "cell_type": "markdown",
   "id": "664f95c1",
   "metadata": {},
   "source": [
    "# 라이브러리 가져오기"
   ]
  },
  {
   "cell_type": "code",
   "execution_count": 1,
   "id": "74ff1093",
   "metadata": {},
   "outputs": [],
   "source": [
    "import numpy as np\n",
    "import csv\n",
    "import seaborn as sns\n",
    "import matplotlib.pyplot as plt\n",
    "import pandas as pd\n",
    "#csv는 엑셀과 달리 , 를 통해 데이터를 구분\n",
    "colors = [\"black\", \"silver\",\"rosybrown\",\"brown\",\"red\",\"chocolate\",\"darkorange\",\"tan\",\"darkgoldenrod\",\"gold\",\"olive\",\"yellow\",\"yellowgreen\",\"darkseagreen\",\"lightgreen\",\"forestgreen\", \"springgreen\",\"aqua\", \"deepskyblue\",\"navy\", \"blue\", \"slateblue\",\"rebeccapurple\" ,\"black\", \"silver\",\"rosybrown\",\"brown\",\"red\",\"chocolate\",\"darkorange\",\"tan\",\"darkgoldenrod\",\"gold\",\"olive\",\"yellow\",\"yellowgreen\",\"darkseagreen\",\"lightgreen\",\"forestgreen\", \"springgreen\",\"aqua\", \"deepskyblue\",\"navy\", \"blue\", \"slateblue\",\"rebeccapurple\" , \"black\", \"silver\",\"rosybrown\",\"brown\",\"red\",\"chocolate\",\"darkorange\",\"tan\",\"darkgoldenrod\",\"gold\",\"olive\",\"yellow\",\"yellowgreen\",\"darkseagreen\",\"lightgreen\",\"forestgreen\", \"springgreen\",\"aqua\", \"deepskyblue\",\"navy\", \"blue\", \"slateblue\",\"rebeccapurple\" , \"black\", \"silver\",\"rosybrown\",\"brown\",\"red\",\"chocolate\",\"darkorange\",\"tan\",\"darkgoldenrod\",\"gold\",\"olive\",\"yellow\",\"yellowgreen\",\"darkseagreen\",\"lightgreen\",\"forestgreen\", \"springgreen\",\"aqua\", \"deepskyblue\",\"navy\", \"blue\", \"slateblue\",\"rebeccapurple\" , \"black\", \"silver\",\"rosybrown\",\"brown\",\"red\",\"chocolate\",\"darkorange\",\"tan\",\"darkgoldenrod\",\"gold\",\"olive\",\"yellow\",\"yellowgreen\",\"darkseagreen\",\"lightgreen\",\"forestgreen\", \"springgreen\",\"aqua\", \"deepskyblue\",\"navy\", \"blue\", \"slateblue\",\"rebeccapurple\" , \"black\", \"silver\",\"rosybrown\",\"brown\",\"red\",\"chocolate\",\"darkorange\",\"tan\", \"darkgoldenrod\",\"gold\",\"olive\",\"yellow\",\"yellowgreen\",\"darkseagreen\",\"lightgreen\",\"forestgreen\", \"springgreen\",\"aqua\", \"deepskyblue\",\"navy\", \"blue\", \"slateblue\",\"rebeccapurple\" , \"black\", \"silver\",\"rosybrown\",\"brown\",\"red\",\"chocolate\",\"darkorange\",\"tan\", \"darkgoldenrod\",\"gold\",\"olive\",\"yellow\",\"yellowgreen\",\"darkseagreen\",\"lightgreen\",\"forestgreen\", \"springgreen\",\"aqua\", \"deepskyblue\",\"navy\", \"blue\", \"slateblue\",\"rebeccapurple\" , \"black\", \"silver\",\"rosybrown\",\"brown\",\"red\",\"chocolate\",\"darkorange\",\"tan\",\"darkgoldenrod\",\"gold\",\"olive\",\"yellow\",\"yellowgreen\",\"darkseagreen\",\"lightgreen\",\"forestgreen\", \"springgreen\",\"aqua\", \"deepskyblue\",\"navy\", \"blue\", \"slateblue\",\"rebeccapurple\" , \"black\", \"silver\",\"rosybrown\",\"brown\",\"red\",\"chocolate\"]\n",
    "# 한글 폰트 사용을 위해서 세팅\n",
    "\n",
    "import matplotlib\n",
    "\n",
    "matplotlib.rcParams['font.family'] ='Malgun Gothic'\n",
    "matplotlib.rcParams['axes.unicode_minus'] =False"
   ]
  },
  {
   "cell_type": "markdown",
   "id": "15e1fefa",
   "metadata": {},
   "source": [
    "# 데이터 가져오기"
   ]
  },
  {
   "cell_type": "code",
   "execution_count": 2,
   "id": "7d91531c",
   "metadata": {},
   "outputs": [],
   "source": [
    "# 대출 데이터\n",
    "lib_bor = pd.read_csv(\"./데이터2022/데이터_단행본대출.csv\", encoding = 'cp949',low_memory=False) \n",
    "lib_bor = lib_bor.dropna(how='any') #-> NA하나라도 있으면 지움\n",
    "lib_bor= lib_bor.drop([lib_bor.columns[0],lib_bor.columns[1],lib_bor.columns[2],lib_bor.columns[5],lib_bor.columns[9]], axis= 1)\n",
    "\n",
    "#도서 데이터\n",
    "book = pd.read_csv(\"./데이터2022/데이터_단행본도서.csv\", encoding = 'cp949',low_memory=False) \n",
    "book = book.dropna(how='any') #-> NA하나라도 있으면 지움\n",
    "book= book.drop([book.columns[0],book.columns[1],book.columns[2],book.columns[3],book.columns[6],book.columns[7],book.columns[8],book.columns[9],book.columns[11],book.columns[12]], axis= 1)"
   ]
  },
  {
   "cell_type": "markdown",
   "id": "5f23afb3",
   "metadata": {},
   "source": [
    "# 데이터 합병"
   ]
  },
  {
   "cell_type": "code",
   "execution_count": 3,
   "id": "607517ea",
   "metadata": {},
   "outputs": [],
   "source": [
    "bor_book =pd.merge(lib_bor,book, on = ['ISBN','서명'], how = 'outer')\n",
    "bor_book = bor_book.dropna(how='any') #-> NA하나라도 있으면 지움\n",
    "bor_book.index = np.arange(len(bor_book))\n",
    "bor_book['연대출권수'] = bor_book['연대출권수'].astype(int)\n",
    "bor_book['입학년도'] = bor_book['입학년도'].astype(int)"
   ]
  },
  {
   "cell_type": "markdown",
   "id": "1448baa3",
   "metadata": {},
   "source": [
    "앞써 발견한 문제점 : 학생이 여러권의 도서를 빌릴때 서명이 맨앞에 한개만 남는다\n",
    "\n",
    "해결책: primary key에 서명을 추가해 주자"
   ]
  },
  {
   "cell_type": "code",
   "execution_count": 4,
   "id": "3f79ad5d",
   "metadata": {},
   "outputs": [
    {
     "name": "stdout",
     "output_type": "stream",
     "text": [
      "<class 'pandas.core.frame.DataFrame'>\n",
      "Int64Index: 59428 entries, 0 to 377011\n",
      "Data columns (total 6 columns):\n",
      " #   Column  Non-Null Count  Dtype \n",
      "---  ------  --------------  ----- \n",
      " 0   ISBN    59428 non-null  object\n",
      " 1   서명      59428 non-null  object\n",
      " 2   연대출권수   59428 non-null  int32 \n",
      " 3   입학년도    59428 non-null  int32 \n",
      " 4   소속      59428 non-null  object\n",
      " 5   분류코드    59428 non-null  object\n",
      "dtypes: int32(2), object(4)\n",
      "memory usage: 2.7+ MB\n"
     ]
    }
   ],
   "source": [
    "#bor_book =bor_book.drop_duplicates(['연대출권수' ,'입학년도','소속'])\n",
    "bor_book =bor_book.drop_duplicates(['연대출권수' ,'입학년도','소속','서명'])\n",
    "bor_book.info()"
   ]
  },
  {
   "cell_type": "code",
   "execution_count": 5,
   "id": "805f75c6",
   "metadata": {},
   "outputs": [
    {
     "data": {
      "text/html": [
       "<div>\n",
       "<style scoped>\n",
       "    .dataframe tbody tr th:only-of-type {\n",
       "        vertical-align: middle;\n",
       "    }\n",
       "\n",
       "    .dataframe tbody tr th {\n",
       "        vertical-align: top;\n",
       "    }\n",
       "\n",
       "    .dataframe thead th {\n",
       "        text-align: right;\n",
       "    }\n",
       "</style>\n",
       "<table border=\"1\" class=\"dataframe\">\n",
       "  <thead>\n",
       "    <tr style=\"text-align: right;\">\n",
       "      <th></th>\n",
       "      <th>ISBN</th>\n",
       "      <th>서명</th>\n",
       "      <th>연대출권수</th>\n",
       "      <th>입학년도</th>\n",
       "      <th>소속</th>\n",
       "      <th>분류코드</th>\n",
       "    </tr>\n",
       "  </thead>\n",
       "  <tbody>\n",
       "    <tr>\n",
       "      <th>0</th>\n",
       "      <td>9788970551234</td>\n",
       "      <td>소유냐 삶이냐</td>\n",
       "      <td>90</td>\n",
       "      <td>2014</td>\n",
       "      <td>금융경제학과</td>\n",
       "      <td>111.1</td>\n",
       "    </tr>\n",
       "    <tr>\n",
       "      <th>2</th>\n",
       "      <td>9788970551234</td>\n",
       "      <td>소유냐 삶이냐</td>\n",
       "      <td>6</td>\n",
       "      <td>2016</td>\n",
       "      <td>컴퓨터학부</td>\n",
       "      <td>111.1</td>\n",
       "    </tr>\n",
       "    <tr>\n",
       "      <th>6</th>\n",
       "      <td>9788970551234</td>\n",
       "      <td>소유냐 삶이냐</td>\n",
       "      <td>7</td>\n",
       "      <td>2014</td>\n",
       "      <td>컴퓨터학부</td>\n",
       "      <td>111.1</td>\n",
       "    </tr>\n",
       "    <tr>\n",
       "      <th>8</th>\n",
       "      <td>9788970551234</td>\n",
       "      <td>소유냐 삶이냐</td>\n",
       "      <td>95</td>\n",
       "      <td>2010</td>\n",
       "      <td>경제학과</td>\n",
       "      <td>111.1</td>\n",
       "    </tr>\n",
       "    <tr>\n",
       "      <th>16</th>\n",
       "      <td>9788970551234</td>\n",
       "      <td>소유냐 삶이냐</td>\n",
       "      <td>39</td>\n",
       "      <td>2017</td>\n",
       "      <td>금융학부</td>\n",
       "      <td>111.1</td>\n",
       "    </tr>\n",
       "    <tr>\n",
       "      <th>20</th>\n",
       "      <td>9788970551234</td>\n",
       "      <td>소유냐 삶이냐</td>\n",
       "      <td>195</td>\n",
       "      <td>2012</td>\n",
       "      <td>글로벌미디어학부</td>\n",
       "      <td>111.1</td>\n",
       "    </tr>\n",
       "    <tr>\n",
       "      <th>22</th>\n",
       "      <td>9788970551234</td>\n",
       "      <td>소유냐 삶이냐</td>\n",
       "      <td>85</td>\n",
       "      <td>2017</td>\n",
       "      <td>철학과</td>\n",
       "      <td>111.1</td>\n",
       "    </tr>\n",
       "    <tr>\n",
       "      <th>26</th>\n",
       "      <td>9788970551234</td>\n",
       "      <td>소유냐 삶이냐</td>\n",
       "      <td>26</td>\n",
       "      <td>2017</td>\n",
       "      <td>철학과</td>\n",
       "      <td>111.1</td>\n",
       "    </tr>\n",
       "    <tr>\n",
       "      <th>28</th>\n",
       "      <td>9791186289501</td>\n",
       "      <td>노동법 원포인트 판례 170선</td>\n",
       "      <td>49</td>\n",
       "      <td>2010</td>\n",
       "      <td>벤처중소기업학과</td>\n",
       "      <td>348.6</td>\n",
       "    </tr>\n",
       "    <tr>\n",
       "      <th>30</th>\n",
       "      <td>9791186289501</td>\n",
       "      <td>노동법 원포인트 판례 170선</td>\n",
       "      <td>46</td>\n",
       "      <td>2010</td>\n",
       "      <td>벤처중소기업학과</td>\n",
       "      <td>348.6</td>\n",
       "    </tr>\n",
       "  </tbody>\n",
       "</table>\n",
       "</div>"
      ],
      "text/plain": [
       "             ISBN                서명  연대출권수  입학년도        소속   분류코드\n",
       "0   9788970551234           소유냐 삶이냐     90  2014    금융경제학과  111.1\n",
       "2   9788970551234           소유냐 삶이냐      6  2016     컴퓨터학부  111.1\n",
       "6   9788970551234           소유냐 삶이냐      7  2014     컴퓨터학부  111.1\n",
       "8   9788970551234           소유냐 삶이냐     95  2010      경제학과  111.1\n",
       "16  9788970551234           소유냐 삶이냐     39  2017      금융학부  111.1\n",
       "20  9788970551234           소유냐 삶이냐    195  2012  글로벌미디어학부  111.1\n",
       "22  9788970551234           소유냐 삶이냐     85  2017       철학과  111.1\n",
       "26  9788970551234           소유냐 삶이냐     26  2017       철학과  111.1\n",
       "28  9791186289501  노동법 원포인트 판례 170선     49  2010  벤처중소기업학과  348.6\n",
       "30  9791186289501  노동법 원포인트 판례 170선     46  2010  벤처중소기업학과  348.6"
      ]
     },
     "execution_count": 5,
     "metadata": {},
     "output_type": "execute_result"
    }
   ],
   "source": [
    "bor_book.head(10)"
   ]
  },
  {
   "cell_type": "markdown",
   "id": "54c4364e",
   "metadata": {},
   "source": [
    "# 데이터 전처리"
   ]
  },
  {
   "cell_type": "markdown",
   "id": "de64cf3c",
   "metadata": {},
   "source": [
    "분류코드를 10단위로 전처리 해주자"
   ]
  },
  {
   "cell_type": "code",
   "execution_count": 6,
   "id": "a1f29508",
   "metadata": {},
   "outputs": [
    {
     "data": {
      "text/html": [
       "<div>\n",
       "<style scoped>\n",
       "    .dataframe tbody tr th:only-of-type {\n",
       "        vertical-align: middle;\n",
       "    }\n",
       "\n",
       "    .dataframe tbody tr th {\n",
       "        vertical-align: top;\n",
       "    }\n",
       "\n",
       "    .dataframe thead th {\n",
       "        text-align: right;\n",
       "    }\n",
       "</style>\n",
       "<table border=\"1\" class=\"dataframe\">\n",
       "  <thead>\n",
       "    <tr style=\"text-align: right;\">\n",
       "      <th></th>\n",
       "      <th>ISBN</th>\n",
       "      <th>서명</th>\n",
       "      <th>연대출권수</th>\n",
       "      <th>입학년도</th>\n",
       "      <th>소속</th>\n",
       "      <th>분류코드</th>\n",
       "    </tr>\n",
       "  </thead>\n",
       "  <tbody>\n",
       "    <tr>\n",
       "      <th>0</th>\n",
       "      <td>9788970551234</td>\n",
       "      <td>소유냐 삶이냐</td>\n",
       "      <td>90</td>\n",
       "      <td>2014</td>\n",
       "      <td>금융경제학과</td>\n",
       "      <td>110</td>\n",
       "    </tr>\n",
       "    <tr>\n",
       "      <th>2</th>\n",
       "      <td>9788970551234</td>\n",
       "      <td>소유냐 삶이냐</td>\n",
       "      <td>6</td>\n",
       "      <td>2016</td>\n",
       "      <td>컴퓨터학부</td>\n",
       "      <td>110</td>\n",
       "    </tr>\n",
       "    <tr>\n",
       "      <th>6</th>\n",
       "      <td>9788970551234</td>\n",
       "      <td>소유냐 삶이냐</td>\n",
       "      <td>7</td>\n",
       "      <td>2014</td>\n",
       "      <td>컴퓨터학부</td>\n",
       "      <td>110</td>\n",
       "    </tr>\n",
       "    <tr>\n",
       "      <th>8</th>\n",
       "      <td>9788970551234</td>\n",
       "      <td>소유냐 삶이냐</td>\n",
       "      <td>95</td>\n",
       "      <td>2010</td>\n",
       "      <td>경제학과</td>\n",
       "      <td>110</td>\n",
       "    </tr>\n",
       "    <tr>\n",
       "      <th>16</th>\n",
       "      <td>9788970551234</td>\n",
       "      <td>소유냐 삶이냐</td>\n",
       "      <td>39</td>\n",
       "      <td>2017</td>\n",
       "      <td>금융학부</td>\n",
       "      <td>110</td>\n",
       "    </tr>\n",
       "    <tr>\n",
       "      <th>20</th>\n",
       "      <td>9788970551234</td>\n",
       "      <td>소유냐 삶이냐</td>\n",
       "      <td>195</td>\n",
       "      <td>2012</td>\n",
       "      <td>글로벌미디어학부</td>\n",
       "      <td>110</td>\n",
       "    </tr>\n",
       "    <tr>\n",
       "      <th>22</th>\n",
       "      <td>9788970551234</td>\n",
       "      <td>소유냐 삶이냐</td>\n",
       "      <td>85</td>\n",
       "      <td>2017</td>\n",
       "      <td>철학과</td>\n",
       "      <td>110</td>\n",
       "    </tr>\n",
       "    <tr>\n",
       "      <th>26</th>\n",
       "      <td>9788970551234</td>\n",
       "      <td>소유냐 삶이냐</td>\n",
       "      <td>26</td>\n",
       "      <td>2017</td>\n",
       "      <td>철학과</td>\n",
       "      <td>110</td>\n",
       "    </tr>\n",
       "    <tr>\n",
       "      <th>28</th>\n",
       "      <td>9791186289501</td>\n",
       "      <td>노동법 원포인트 판례 170선</td>\n",
       "      <td>49</td>\n",
       "      <td>2010</td>\n",
       "      <td>벤처중소기업학과</td>\n",
       "      <td>340</td>\n",
       "    </tr>\n",
       "    <tr>\n",
       "      <th>30</th>\n",
       "      <td>9791186289501</td>\n",
       "      <td>노동법 원포인트 판례 170선</td>\n",
       "      <td>46</td>\n",
       "      <td>2010</td>\n",
       "      <td>벤처중소기업학과</td>\n",
       "      <td>340</td>\n",
       "    </tr>\n",
       "  </tbody>\n",
       "</table>\n",
       "</div>"
      ],
      "text/plain": [
       "             ISBN                서명  연대출권수  입학년도        소속  분류코드\n",
       "0   9788970551234           소유냐 삶이냐     90  2014    금융경제학과   110\n",
       "2   9788970551234           소유냐 삶이냐      6  2016     컴퓨터학부   110\n",
       "6   9788970551234           소유냐 삶이냐      7  2014     컴퓨터학부   110\n",
       "8   9788970551234           소유냐 삶이냐     95  2010      경제학과   110\n",
       "16  9788970551234           소유냐 삶이냐     39  2017      금융학부   110\n",
       "20  9788970551234           소유냐 삶이냐    195  2012  글로벌미디어학부   110\n",
       "22  9788970551234           소유냐 삶이냐     85  2017       철학과   110\n",
       "26  9788970551234           소유냐 삶이냐     26  2017       철학과   110\n",
       "28  9791186289501  노동법 원포인트 판례 170선     49  2010  벤처중소기업학과   340\n",
       "30  9791186289501  노동법 원포인트 판례 170선     46  2010  벤처중소기업학과   340"
      ]
     },
     "execution_count": 6,
     "metadata": {},
     "output_type": "execute_result"
    }
   ],
   "source": [
    "bor_book['분류코드'] =bor_book['분류코드'].astype(str)\n",
    "bor_book['분류코드'] = bor_book['분류코드'].apply(lambda x : x[:3])\n",
    "bor_book['분류코드'] =bor_book['분류코드'].astype(int)\n",
    "bor_book['분류코드'] = bor_book['분류코드'].apply(lambda x : (x//10)*10)\n",
    "bor_book.head(10)"
   ]
  },
  {
   "cell_type": "markdown",
   "id": "8e01668c",
   "metadata": {},
   "source": [
    "# 전체 학생들 중 베스트 셀러 Top 10"
   ]
  },
  {
   "cell_type": "code",
   "execution_count": 7,
   "id": "38d0c891",
   "metadata": {},
   "outputs": [
    {
     "name": "stdout",
     "output_type": "stream",
     "text": [
      "Top 1 : 왜 나는 너를 사랑하는가 212\n",
      "Top 2 : 참을 수 없는 존재의 가벼움 202\n",
      "Top 3 : 데미안 173\n",
      "Top 4 : 총, 균, 쇠 :무기, 병균, 금속은 인류의 운명을 어떻게 바꿨는가 158\n",
      "Top 5 : 사랑의 기술 150\n",
      "Top 6 : 미분적분학 =Calculus 144\n",
      "Top 7 : 이갈리아의 딸들 143\n",
      "Top 8 : 위대한 개츠비 135\n",
      "Top 9 : 역사란 무엇인가 126\n",
      "Top 10 : 멋진 신세계 123\n"
     ]
    }
   ],
   "source": [
    "#전체 베스트 셀러\n",
    "item_count = bor_book['서명'].value_counts()[:10]\n",
    "for idx, (val,cnt) in enumerate (item_count.iteritems(),1):\n",
    "    print('Top',idx,\":\",val,cnt)"
   ]
  },
  {
   "cell_type": "markdown",
   "id": "891566c3",
   "metadata": {},
   "source": [
    "# 전체 학생들 중 인기 분야 Top 10"
   ]
  },
  {
   "cell_type": "code",
   "execution_count": 8,
   "id": "05d55b83",
   "metadata": {},
   "outputs": [
    {
     "name": "stdout",
     "output_type": "stream",
     "text": [
      "Top 1 : 650 7093\n",
      "Top 2 : 340 5472\n",
      "Top 3 : 330 4871\n",
      "Top 4 : 0 4049\n",
      "Top 5 : 810 3349\n",
      "Top 6 : 620 3035\n",
      "Top 7 : 910 2447\n",
      "Top 8 : 510 2397\n",
      "Top 9 : 820 2214\n",
      "Top 10 : 420 2203\n"
     ]
    }
   ],
   "source": [
    "#전체 베스트 셀러 Top 순위 : 분류코드 개수\n",
    "item_count = bor_book['분류코드'].value_counts()[:10]\n",
    "for idx, (val,cnt) in enumerate (item_count.iteritems(),1):\n",
    "    print('Top',idx,\":\",val,cnt)"
   ]
  },
  {
   "cell_type": "markdown",
   "id": "640420a9",
   "metadata": {},
   "source": [
    "# 재학생을 고려하여 12 ~ 21학번만 고려하자"
   ]
  },
  {
   "cell_type": "code",
   "execution_count": 9,
   "id": "8abf16d1",
   "metadata": {},
   "outputs": [
    {
     "data": {
      "text/html": [
       "<div>\n",
       "<style scoped>\n",
       "    .dataframe tbody tr th:only-of-type {\n",
       "        vertical-align: middle;\n",
       "    }\n",
       "\n",
       "    .dataframe tbody tr th {\n",
       "        vertical-align: top;\n",
       "    }\n",
       "\n",
       "    .dataframe thead th {\n",
       "        text-align: right;\n",
       "    }\n",
       "</style>\n",
       "<table border=\"1\" class=\"dataframe\">\n",
       "  <thead>\n",
       "    <tr style=\"text-align: right;\">\n",
       "      <th></th>\n",
       "      <th>ISBN</th>\n",
       "      <th>서명</th>\n",
       "      <th>연대출권수</th>\n",
       "      <th>입학년도</th>\n",
       "      <th>소속</th>\n",
       "      <th>분류코드</th>\n",
       "    </tr>\n",
       "  </thead>\n",
       "  <tbody>\n",
       "    <tr>\n",
       "      <th>0</th>\n",
       "      <td>9788970551234</td>\n",
       "      <td>소유냐 삶이냐</td>\n",
       "      <td>90</td>\n",
       "      <td>2014</td>\n",
       "      <td>금융경제학과</td>\n",
       "      <td>110</td>\n",
       "    </tr>\n",
       "    <tr>\n",
       "      <th>2</th>\n",
       "      <td>9788970551234</td>\n",
       "      <td>소유냐 삶이냐</td>\n",
       "      <td>6</td>\n",
       "      <td>2016</td>\n",
       "      <td>컴퓨터학부</td>\n",
       "      <td>110</td>\n",
       "    </tr>\n",
       "    <tr>\n",
       "      <th>6</th>\n",
       "      <td>9788970551234</td>\n",
       "      <td>소유냐 삶이냐</td>\n",
       "      <td>7</td>\n",
       "      <td>2014</td>\n",
       "      <td>컴퓨터학부</td>\n",
       "      <td>110</td>\n",
       "    </tr>\n",
       "    <tr>\n",
       "      <th>16</th>\n",
       "      <td>9788970551234</td>\n",
       "      <td>소유냐 삶이냐</td>\n",
       "      <td>39</td>\n",
       "      <td>2017</td>\n",
       "      <td>금융학부</td>\n",
       "      <td>110</td>\n",
       "    </tr>\n",
       "    <tr>\n",
       "      <th>20</th>\n",
       "      <td>9788970551234</td>\n",
       "      <td>소유냐 삶이냐</td>\n",
       "      <td>195</td>\n",
       "      <td>2012</td>\n",
       "      <td>글로벌미디어학부</td>\n",
       "      <td>110</td>\n",
       "    </tr>\n",
       "    <tr>\n",
       "      <th>22</th>\n",
       "      <td>9788970551234</td>\n",
       "      <td>소유냐 삶이냐</td>\n",
       "      <td>85</td>\n",
       "      <td>2017</td>\n",
       "      <td>철학과</td>\n",
       "      <td>110</td>\n",
       "    </tr>\n",
       "    <tr>\n",
       "      <th>26</th>\n",
       "      <td>9788970551234</td>\n",
       "      <td>소유냐 삶이냐</td>\n",
       "      <td>26</td>\n",
       "      <td>2017</td>\n",
       "      <td>철학과</td>\n",
       "      <td>110</td>\n",
       "    </tr>\n",
       "    <tr>\n",
       "      <th>40</th>\n",
       "      <td>9791186289501</td>\n",
       "      <td>노동법 원포인트 판례 170선</td>\n",
       "      <td>43</td>\n",
       "      <td>2015</td>\n",
       "      <td>법학과</td>\n",
       "      <td>340</td>\n",
       "    </tr>\n",
       "    <tr>\n",
       "      <th>46</th>\n",
       "      <td>9791186289501</td>\n",
       "      <td>노동법 원포인트 판례 170선</td>\n",
       "      <td>17</td>\n",
       "      <td>2014</td>\n",
       "      <td>국제법무학과</td>\n",
       "      <td>340</td>\n",
       "    </tr>\n",
       "    <tr>\n",
       "      <th>58</th>\n",
       "      <td>9791186289501</td>\n",
       "      <td>노동법 원포인트 판례 170선</td>\n",
       "      <td>33</td>\n",
       "      <td>2013</td>\n",
       "      <td>경영학부</td>\n",
       "      <td>340</td>\n",
       "    </tr>\n",
       "    <tr>\n",
       "      <th>72</th>\n",
       "      <td>9791186289501</td>\n",
       "      <td>노동법 원포인트 판례 170선</td>\n",
       "      <td>47</td>\n",
       "      <td>2016</td>\n",
       "      <td>법학과</td>\n",
       "      <td>340</td>\n",
       "    </tr>\n",
       "    <tr>\n",
       "      <th>82</th>\n",
       "      <td>9791186289501</td>\n",
       "      <td>노동법 원포인트 판례 170선</td>\n",
       "      <td>6</td>\n",
       "      <td>2016</td>\n",
       "      <td>국제법무학과</td>\n",
       "      <td>340</td>\n",
       "    </tr>\n",
       "    <tr>\n",
       "      <th>84</th>\n",
       "      <td>9791186289501</td>\n",
       "      <td>노동법 원포인트 판례 170선</td>\n",
       "      <td>27</td>\n",
       "      <td>2015</td>\n",
       "      <td>법학과</td>\n",
       "      <td>340</td>\n",
       "    </tr>\n",
       "    <tr>\n",
       "      <th>90</th>\n",
       "      <td>9791186289501</td>\n",
       "      <td>노동법 원포인트 판례 170선</td>\n",
       "      <td>106</td>\n",
       "      <td>2015</td>\n",
       "      <td>법학과</td>\n",
       "      <td>340</td>\n",
       "    </tr>\n",
       "    <tr>\n",
       "      <th>92</th>\n",
       "      <td>9791186289501</td>\n",
       "      <td>노동법 원포인트 판례 170선</td>\n",
       "      <td>35</td>\n",
       "      <td>2014</td>\n",
       "      <td>사회복지학부</td>\n",
       "      <td>340</td>\n",
       "    </tr>\n",
       "  </tbody>\n",
       "</table>\n",
       "</div>"
      ],
      "text/plain": [
       "             ISBN                서명  연대출권수  입학년도        소속  분류코드\n",
       "0   9788970551234           소유냐 삶이냐     90  2014    금융경제학과   110\n",
       "2   9788970551234           소유냐 삶이냐      6  2016     컴퓨터학부   110\n",
       "6   9788970551234           소유냐 삶이냐      7  2014     컴퓨터학부   110\n",
       "16  9788970551234           소유냐 삶이냐     39  2017      금융학부   110\n",
       "20  9788970551234           소유냐 삶이냐    195  2012  글로벌미디어학부   110\n",
       "22  9788970551234           소유냐 삶이냐     85  2017       철학과   110\n",
       "26  9788970551234           소유냐 삶이냐     26  2017       철학과   110\n",
       "40  9791186289501  노동법 원포인트 판례 170선     43  2015       법학과   340\n",
       "46  9791186289501  노동법 원포인트 판례 170선     17  2014    국제법무학과   340\n",
       "58  9791186289501  노동법 원포인트 판례 170선     33  2013      경영학부   340\n",
       "72  9791186289501  노동법 원포인트 판례 170선     47  2016       법학과   340\n",
       "82  9791186289501  노동법 원포인트 판례 170선      6  2016    국제법무학과   340\n",
       "84  9791186289501  노동법 원포인트 판례 170선     27  2015       법학과   340\n",
       "90  9791186289501  노동법 원포인트 판례 170선    106  2015       법학과   340\n",
       "92  9791186289501  노동법 원포인트 판례 170선     35  2014    사회복지학부   340"
      ]
     },
     "execution_count": 9,
     "metadata": {},
     "output_type": "execute_result"
    }
   ],
   "source": [
    "bor_book = bor_book[bor_book['입학년도']> 2011]\n",
    "bor_book.head(15)"
   ]
  },
  {
   "cell_type": "markdown",
   "id": "1510e930",
   "metadata": {},
   "source": [
    "# TARGET 학생들 중 베스트 셀러 Top 10"
   ]
  },
  {
   "cell_type": "code",
   "execution_count": 10,
   "id": "212247dc",
   "metadata": {},
   "outputs": [
    {
     "name": "stdout",
     "output_type": "stream",
     "text": [
      "Top 1 : 왜 나는 너를 사랑하는가 205\n",
      "Top 2 : 참을 수 없는 존재의 가벼움 193\n",
      "Top 3 : 데미안 168\n",
      "Top 4 : 사랑의 기술 141\n",
      "Top 5 : 이갈리아의 딸들 141\n",
      "Top 6 : 총, 균, 쇠 :무기, 병균, 금속은 인류의 운명을 어떻게 바꿨는가 140\n",
      "Top 7 : 미분적분학 =Calculus 133\n",
      "Top 8 : 위대한 개츠비 131\n",
      "Top 9 : 역사란 무엇인가 122\n",
      "Top 10 : 멋진 신세계 117\n"
     ]
    }
   ],
   "source": [
    "#전체 베스트 셀러\n",
    "item_count = bor_book['서명'].value_counts()[:10]\n",
    "for idx, (val,cnt) in enumerate (item_count.iteritems(),1):\n",
    "    print('Top',idx,\":\",val,cnt)"
   ]
  },
  {
   "cell_type": "markdown",
   "id": "a3d50278",
   "metadata": {},
   "source": [
    "# TARGET 학생들 중 인기 분야 Top 10"
   ]
  },
  {
   "cell_type": "code",
   "execution_count": 11,
   "id": "609e557d",
   "metadata": {},
   "outputs": [
    {
     "name": "stdout",
     "output_type": "stream",
     "text": [
      "Top 1 : 650 6236\n",
      "Top 2 : 340 4880\n",
      "Top 3 : 330 4465\n",
      "Top 4 : 0 3841\n",
      "Top 5 : 810 3146\n",
      "Top 6 : 620 2824\n",
      "Top 7 : 910 2274\n",
      "Top 8 : 510 2236\n",
      "Top 9 : 820 2108\n",
      "Top 10 : 420 1969\n"
     ]
    }
   ],
   "source": [
    "#전체 베스트 셀러 Top 순위 : 분류코드 개수\n",
    "item_count = bor_book['분류코드'].value_counts()[:10]\n",
    "for idx, (val,cnt) in enumerate (item_count.iteritems(),1):\n",
    "    print('Top',idx,\":\",val,cnt)"
   ]
  },
  {
   "cell_type": "markdown",
   "id": "8df958a6",
   "metadata": {},
   "source": [
    "# (학과 학번)별로  분류"
   ]
  },
  {
   "cell_type": "code",
   "execution_count": 12,
   "id": "f728311d",
   "metadata": {},
   "outputs": [],
   "source": [
    "tmp_group = bor_book.groupby(['소속','입학년도'])"
   ]
  },
  {
   "cell_type": "code",
   "execution_count": 13,
   "id": "55623af4",
   "metadata": {},
   "outputs": [
    {
     "data": {
      "text/plain": [
       "dict_keys([('AI융합학부', 2012), ('AI융합학부', 2013), ('AI융합학부', 2014), ('AI융합학부', 2015), ('AI융합학부', 2016), ('AI융합학부', 2017), ('AI융합학부', 2018), ('AI융합학부', 2019), ('AI융합학부', 2020), ('AI융합학부', 2021), ('건축학부', 2012), ('건축학부', 2013), ('건축학부', 2014), ('건축학부', 2015), ('건축학부', 2016), ('건축학부', 2017), ('건축학부', 2018), ('건축학부', 2019), ('건축학부', 2020), ('건축학부', 2021), ('경영학부', 2012), ('경영학부', 2013), ('경영학부', 2014), ('경영학부', 2015), ('경영학부', 2016), ('경영학부', 2017), ('경영학부', 2018), ('경영학부', 2019), ('경영학부', 2020), ('경영학부', 2021), ('경제학과', 2012), ('경제학과', 2013), ('경제학과', 2014), ('경제학과', 2015), ('경제학과', 2016), ('경제학과', 2017), ('경제학과', 2018), ('경제학과', 2019), ('경제학과', 2020), ('경제학과', 2021), ('국어국문학과', 2012), ('국어국문학과', 2013), ('국어국문학과', 2014), ('국어국문학과', 2015), ('국어국문학과', 2016), ('국어국문학과', 2017), ('국어국문학과', 2018), ('국어국문학과', 2019), ('국어국문학과', 2020), ('국어국문학과', 2021), ('국제무역학과', 2014), ('국제무역학과', 2015), ('국제무역학과', 2016), ('국제무역학과', 2017), ('국제무역학과', 2018), ('국제무역학과', 2019), ('국제무역학과', 2020), ('국제무역학과', 2021), ('국제법무학과', 2012), ('국제법무학과', 2013), ('국제법무학과', 2014), ('국제법무학과', 2015), ('국제법무학과', 2016), ('국제법무학과', 2017), ('국제법무학과', 2018), ('국제법무학과', 2019), ('국제법무학과', 2020), ('국제법무학과', 2021), ('글로벌미디어학부', 2012), ('글로벌미디어학부', 2013), ('글로벌미디어학부', 2014), ('글로벌미디어학부', 2015), ('글로벌미디어학부', 2016), ('글로벌미디어학부', 2017), ('글로벌미디어학부', 2018), ('글로벌미디어학부', 2019), ('글로벌미디어학부', 2020), ('글로벌미디어학부', 2021), ('글로벌통상학과', 2012), ('글로벌통상학과', 2013), ('글로벌통상학과', 2014), ('글로벌통상학과', 2015), ('글로벌통상학과', 2016), ('글로벌통상학과', 2017), ('글로벌통상학과', 2018), ('글로벌통상학과', 2019), ('글로벌통상학과', 2020), ('글로벌통상학과', 2021), ('금융경제학과', 2014), ('금융경제학과', 2015), ('금융경제학과', 2016), ('금융경제학과', 2017), ('금융경제학과', 2018), ('금융경제학과', 2019), ('금융경제학과', 2020), ('금융경제학과', 2021), ('금융학부', 2012), ('금융학부', 2013), ('금융학부', 2014), ('금융학부', 2015), ('금융학부', 2016), ('금융학부', 2017), ('금융학부', 2018), ('금융학부', 2019), ('금융학부', 2020), ('금융학부', 2021), ('기계공학부', 2012), ('기계공학부', 2013), ('기계공학부', 2014), ('기계공학부', 2015), ('기계공학부', 2016), ('기계공학부', 2017), ('기계공학부', 2018), ('기계공학부', 2019), ('기계공학부', 2020), ('기계공학부', 2021), ('기독교학과', 2012), ('기독교학과', 2013), ('기독교학과', 2014), ('기독교학과', 2015), ('기독교학과', 2016), ('기독교학과', 2017), ('기독교학과', 2018), ('기독교학과', 2019), ('기독교학과', 2020), ('기독교학과', 2021), ('독어독문학과', 2012), ('독어독문학과', 2013), ('독어독문학과', 2014), ('독어독문학과', 2015), ('독어독문학과', 2016), ('독어독문학과', 2017), ('독어독문학과', 2018), ('독어독문학과', 2019), ('독어독문학과', 2020), ('독어독문학과', 2021), ('물리학과', 2012), ('물리학과', 2013), ('물리학과', 2014), ('물리학과', 2015), ('물리학과', 2016), ('물리학과', 2017), ('물리학과', 2018), ('물리학과', 2019), ('물리학과', 2020), ('물리학과', 2021), ('미디어경영학과', 2015), ('미디어경영학과', 2016), ('미디어경영학과', 2017), ('미디어경영학과', 2018), ('미디어경영학과', 2019), ('미디어경영학과', 2020), ('법학과', 2012), ('법학과', 2013), ('법학과', 2014), ('법학과', 2015), ('법학과', 2016), ('법학과', 2017), ('법학과', 2018), ('법학과', 2019), ('법학과', 2020), ('법학과', 2021), ('벤처경영학과(계약학과)', 2015), ('벤처경영학과(계약학과)', 2018), ('벤처중소기업학과', 2012), ('벤처중소기업학과', 2013), ('벤처중소기업학과', 2014), ('벤처중소기업학과', 2015), ('벤처중소기업학과', 2016), ('벤처중소기업학과', 2017), ('벤처중소기업학과', 2018), ('벤처중소기업학과', 2019), ('벤처중소기업학과', 2020), ('벤처중소기업학과', 2021), ('복지경영학과(계약학과)', 2015), ('복지경영학과(계약학과)', 2019), ('불어불문학과', 2012), ('불어불문학과', 2013), ('불어불문학과', 2014), ('불어불문학과', 2015), ('불어불문학과', 2016), ('불어불문학과', 2017), ('불어불문학과', 2018), ('불어불문학과', 2019), ('불어불문학과', 2020), ('불어불문학과', 2021), ('사학과', 2012), ('사학과', 2013), ('사학과', 2014), ('사학과', 2015), ('사학과', 2016), ('사학과', 2017), ('사학과', 2018), ('사학과', 2019), ('사학과', 2020), ('사학과', 2021), ('사회복지학부', 2012), ('사회복지학부', 2013), ('사회복지학부', 2014), ('사회복지학부', 2015), ('사회복지학부', 2016), ('사회복지학부', 2017), ('사회복지학부', 2018), ('사회복지학부', 2019), ('사회복지학부', 2020), ('사회복지학부', 2021), ('산업·정보시스템공학과', 2012), ('산업·정보시스템공학과', 2013), ('산업·정보시스템공학과', 2014), ('산업·정보시스템공학과', 2015), ('산업·정보시스템공학과', 2016), ('산업·정보시스템공학과', 2017), ('산업·정보시스템공학과', 2018), ('산업·정보시스템공학과', 2019), ('산업·정보시스템공학과', 2020), ('산업·정보시스템공학과', 2021), ('소프트웨어학부', 2012), ('소프트웨어학부', 2013), ('소프트웨어학부', 2014), ('소프트웨어학부', 2015), ('소프트웨어학부', 2016), ('소프트웨어학부', 2017), ('소프트웨어학부', 2018), ('소프트웨어학부', 2019), ('소프트웨어학부', 2020), ('소프트웨어학부', 2021), ('수학과', 2012), ('수학과', 2013), ('수학과', 2014), ('수학과', 2015), ('수학과', 2016), ('수학과', 2017), ('수학과', 2018), ('수학과', 2019), ('수학과', 2020), ('수학과', 2021), ('스포츠학부', 2012), ('스포츠학부', 2013), ('스포츠학부', 2014), ('스포츠학부', 2015), ('스포츠학부', 2016), ('스포츠학부', 2017), ('스포츠학부', 2018), ('스포츠학부', 2019), ('스포츠학부', 2020), ('스포츠학부', 2021), ('언론홍보학과', 2012), ('언론홍보학과', 2013), ('언론홍보학과', 2014), ('언론홍보학과', 2015), ('언론홍보학과', 2016), ('언론홍보학과', 2017), ('언론홍보학과', 2018), ('언론홍보학과', 2019), ('언론홍보학과', 2020), ('언론홍보학과', 2021), ('영어영문학과', 2012), ('영어영문학과', 2013), ('영어영문학과', 2014), ('영어영문학과', 2015), ('영어영문학과', 2016), ('영어영문학과', 2017), ('영어영문학과', 2018), ('영어영문학과', 2019), ('영어영문학과', 2020), ('영어영문학과', 2021), ('예술창작학부 문예창작전공', 2012), ('예술창작학부 문예창작전공', 2013), ('예술창작학부 문예창작전공', 2014), ('예술창작학부 문예창작전공', 2015), ('예술창작학부 문예창작전공', 2016), ('예술창작학부 문예창작전공', 2017), ('예술창작학부 문예창작전공', 2018), ('예술창작학부 문예창작전공', 2019), ('예술창작학부 문예창작전공', 2020), ('예술창작학부 문예창작전공', 2021), ('예술창작학부 영화예술전공', 2013), ('예술창작학부 영화예술전공', 2014), ('예술창작학부 영화예술전공', 2015), ('예술창작학부 영화예술전공', 2016), ('예술창작학부 영화예술전공', 2017), ('예술창작학부 영화예술전공', 2018), ('예술창작학부 영화예술전공', 2019), ('예술창작학부 영화예술전공', 2020), ('예술창작학부 영화예술전공', 2021), ('유기신소재·파이버공학과', 2012), ('유기신소재·파이버공학과', 2013), ('유기신소재·파이버공학과', 2014), ('유기신소재·파이버공학과', 2015), ('유기신소재·파이버공학과', 2016), ('유기신소재·파이버공학과', 2017), ('유기신소재·파이버공학과', 2018), ('유기신소재·파이버공학과', 2019), ('유기신소재·파이버공학과', 2020), ('유기신소재·파이버공학과', 2021), ('융합특성화자유전공학부', 2017), ('융합특성화자유전공학부', 2018), ('융합특성화자유전공학부', 2019), ('융합특성화자유전공학부', 2020), ('융합특성화자유전공학부', 2021), ('의생명시스템학부', 2012), ('의생명시스템학부', 2013), ('의생명시스템학부', 2014), ('의생명시스템학부', 2015), ('의생명시스템학부', 2016), ('의생명시스템학부', 2017), ('의생명시스템학부', 2018), ('의생명시스템학부', 2019), ('의생명시스템학부', 2020), ('의생명시스템학부', 2021), ('일어일문학과', 2012), ('일어일문학과', 2013), ('일어일문학과', 2014), ('일어일문학과', 2015), ('일어일문학과', 2016), ('일어일문학과', 2017), ('일어일문학과', 2018), ('일어일문학과', 2019), ('일어일문학과', 2020), ('일어일문학과', 2021), ('전기공학부', 2012), ('전기공학부', 2013), ('전기공학부', 2014), ('전기공학부', 2015), ('전기공학부', 2016), ('전기공학부', 2017), ('전기공학부', 2018), ('전기공학부', 2019), ('전기공학부', 2020), ('전기공학부', 2021), ('전자정보공학부 IT융합전공', 2012), ('전자정보공학부 IT융합전공', 2013), ('전자정보공학부 IT융합전공', 2014), ('전자정보공학부 IT융합전공', 2015), ('전자정보공학부 IT융합전공', 2016), ('전자정보공학부 IT융합전공', 2017), ('전자정보공학부 IT융합전공', 2018), ('전자정보공학부 IT융합전공', 2019), ('전자정보공학부 IT융합전공', 2020), ('전자정보공학부 IT융합전공', 2021), ('전자정보공학부 전자공학전공', 2012), ('전자정보공학부 전자공학전공', 2013), ('전자정보공학부 전자공학전공', 2014), ('전자정보공학부 전자공학전공', 2015), ('전자정보공학부 전자공학전공', 2016), ('전자정보공학부 전자공학전공', 2017), ('전자정보공학부 전자공학전공', 2018), ('전자정보공학부 전자공학전공', 2019), ('전자정보공학부 전자공학전공', 2020), ('전자정보공학부 전자공학전공', 2021), ('정보사회학과', 2012), ('정보사회학과', 2013), ('정보사회학과', 2014), ('정보사회학과', 2015), ('정보사회학과', 2016), ('정보사회학과', 2017), ('정보사회학과', 2018), ('정보사회학과', 2019), ('정보사회학과', 2020), ('정보사회학과', 2021), ('정보통계·보험수리학과', 2012), ('정보통계·보험수리학과', 2013), ('정보통계·보험수리학과', 2014), ('정보통계·보험수리학과', 2015), ('정보통계·보험수리학과', 2016), ('정보통계·보험수리학과', 2017), ('정보통계·보험수리학과', 2018), ('정보통계·보험수리학과', 2019), ('정보통계·보험수리학과', 2020), ('정보통계·보험수리학과', 2021), ('정보통신전자공학부', 2012), ('정보통신전자공학부', 2013), ('정보통신전자공학부', 2014), ('정치외교학과', 2012), ('정치외교학과', 2013), ('정치외교학과', 2014), ('정치외교학과', 2015), ('정치외교학과', 2016), ('정치외교학과', 2017), ('정치외교학과', 2018), ('정치외교학과', 2019), ('정치외교학과', 2020), ('정치외교학과', 2021), ('중어중문학과', 2012), ('중어중문학과', 2013), ('중어중문학과', 2014), ('중어중문학과', 2015), ('중어중문학과', 2016), ('중어중문학과', 2017), ('중어중문학과', 2018), ('중어중문학과', 2019), ('중어중문학과', 2020), ('중어중문학과', 2021), ('철학과', 2012), ('철학과', 2013), ('철학과', 2014), ('철학과', 2015), ('철학과', 2016), ('철학과', 2017), ('철학과', 2018), ('철학과', 2019), ('철학과', 2020), ('철학과', 2021), ('컴퓨터학부', 2012), ('컴퓨터학부', 2013), ('컴퓨터학부', 2014), ('컴퓨터학부', 2015), ('컴퓨터학부', 2016), ('컴퓨터학부', 2017), ('컴퓨터학부', 2018), ('컴퓨터학부', 2019), ('컴퓨터학부', 2020), ('컴퓨터학부', 2021), ('평생교육학과', 2012), ('평생교육학과', 2013), ('평생교육학과', 2014), ('평생교육학과', 2015), ('평생교육학과', 2016), ('평생교육학과', 2017), ('평생교육학과', 2018), ('평생교육학과', 2019), ('평생교육학과', 2020), ('평생교육학과', 2021), ('행정학부', 2012), ('행정학부', 2013), ('행정학부', 2014), ('행정학부', 2015), ('행정학부', 2016), ('행정학부', 2017), ('행정학부', 2018), ('행정학부', 2019), ('행정학부', 2020), ('행정학부', 2021), ('혁신경영학과(계약학과)', 2014), ('혁신경영학과(계약학과)', 2015), ('혁신경영학과(계약학과)', 2019), ('화학공학과', 2012), ('화학공학과', 2013), ('화학공학과', 2014), ('화학공학과', 2015), ('화학공학과', 2016), ('화학공학과', 2017), ('화학공학과', 2018), ('화학공학과', 2019), ('화학공학과', 2020), ('화학공학과', 2021), ('화학과', 2012), ('화학과', 2013), ('화학과', 2014), ('화학과', 2015), ('화학과', 2016), ('화학과', 2017), ('화학과', 2018), ('화학과', 2019), ('화학과', 2020), ('화학과', 2021), ('회계학과', 2012), ('회계학과', 2013), ('회계학과', 2014), ('회계학과', 2015), ('회계학과', 2016), ('회계학과', 2017), ('회계학과', 2018), ('회계학과', 2019), ('회계학과', 2020), ('회계학과', 2021)])"
      ]
     },
     "execution_count": 13,
     "metadata": {},
     "output_type": "execute_result"
    }
   ],
   "source": [
    "tmp_dic = dict(list(tmp_group))\n",
    "tmp_dic.keys()"
   ]
  },
  {
   "cell_type": "code",
   "execution_count": 14,
   "id": "eab4b8c0",
   "metadata": {},
   "outputs": [
    {
     "name": "stdout",
     "output_type": "stream",
     "text": [
      "128\n",
      "3907                     (이규상) 건축계획학 :기본서 :국토계획법등법령개정반영\n",
      "24278                         당신, 거기 있어줄래요? :기욤 뮈소 장편소설\n",
      "45617                                            멋진 신세계\n",
      "52139                                          이갈리아의 딸들\n",
      "52155                                          이갈리아의 딸들\n",
      "                              ...                      \n",
      "374311                                예술에서의 정신적인 것에 대하여\n",
      "374671                              (K-IFRS) 최신 회계원리 이해\n",
      "376157    돈이 보이는 주식의 역사 :주식시장의 폭락과 버블 속에서 배우는 주식투자 인사이트\n",
      "376210                                     법학개론 :2021년판\n",
      "376569                                 기업금융과 M＆A :개정증보판\n",
      "Name: 서명, Length: 128, dtype: object\n"
     ]
    }
   ],
   "source": [
    "print(tmp_dic[('건축학부',2018)]['서명'].count())\n",
    "print(tmp_dic[('건축학부',2018)]['서명'])"
   ]
  },
  {
   "cell_type": "code",
   "execution_count": 15,
   "id": "7db9ab4b",
   "metadata": {},
   "outputs": [],
   "source": [
    "x = tmp_dic.keys()\n",
    "x_val =  np.arange(len(tmp_dic.keys()))\n",
    "y_val = []\n",
    "count= 0\n",
    "for x in tmp_dic.keys():\n",
    "    count += 1\n",
    "    y_val.append(int(tmp_dic[(x)]['서명'].count()))"
   ]
  },
  {
   "cell_type": "code",
   "execution_count": 16,
   "id": "a0f8aef8",
   "metadata": {},
   "outputs": [
    {
     "data": {
      "text/plain": [
       "<BarContainer object of 466 artists>"
      ]
     },
     "execution_count": 16,
     "metadata": {},
     "output_type": "execute_result"
    },
    {
     "data": {
      "image/png": "[encoded data removed]",
      "text/plain": [
       "<Figure size 360x360 with 1 Axes>"
      ]
     },
     "metadata": {
      "needs_background": "light"
     },
     "output_type": "display_data"
    }
   ],
   "source": [
    "plt.figure(figsize=(5, 5)) #그래프의 크기조절\n",
    "plt.xlabel(\"class by admission and department\")\n",
    "plt.ylabel(\"number of books\")\n",
    "plt.bar(x_val,y_val, align = 'center')"
   ]
  },
  {
   "cell_type": "markdown",
   "id": "8c4cb4cd",
   "metadata": {},
   "source": [
    "# 학번별 베스트 셀러 추천 서비스"
   ]
  },
  {
   "cell_type": "code",
   "execution_count": 17,
   "id": "13198b1c",
   "metadata": {},
   "outputs": [
    {
     "data": {
      "text/plain": [
       "[2012, 2013, 2014, 2015, 2016, 2017, 2018, 2019, 2020, 2021]"
      ]
     },
     "execution_count": 17,
     "metadata": {},
     "output_type": "execute_result"
    }
   ],
   "source": [
    "exist_year = []\n",
    "for n in range (2012,2022):\n",
    "    exist_year.append(n)\n",
    "exist_year"
   ]
  },
  {
   "cell_type": "code",
   "execution_count": 18,
   "id": "5236e3a0",
   "metadata": {},
   "outputs": [],
   "source": [
    "#12~ 21\n",
    "best_seller_dataframe = []\n",
    "for year in exist_year:\n",
    "    if (year < 2012):\n",
    "        continue\n",
    "    else:\n",
    "        tmp_data_frame = bor_book[bor_book['입학년도']== year]\n",
    "        best_seller_dataframe.append(pd.DataFrame(data= tmp_data_frame))"
   ]
  },
  {
   "cell_type": "code",
   "execution_count": 24,
   "id": "3eb830b8",
   "metadata": {
    "scrolled": false
   },
   "outputs": [
    {
     "name": "stdout",
     "output_type": "stream",
     "text": [
      "입학년도를 입력해주세요 (2012~2021) \n",
      "\n",
      "2014\n",
      "\n",
      "------------------------- 2014 -------------------------\n",
      "\n",
      "Top 1 : 참을 수 없는 존재의 가벼움\n",
      "\n",
      "Top 2 : 미분적분학 =Calculus\n",
      "\n",
      "Top 3 : 왜 나는 너를 사랑하는가\n",
      "\n",
      "Top 4 : 데미안\n",
      "\n",
      "Top 5 : 총, 균, 쇠 :무기, 병균, 금속은 인류의 운명을 어떻게 바꿨는가\n",
      "\n",
      "Top 6 : 국제법 판례 100선 =International law cases\n",
      "\n",
      "Top 7 : 미시경제학 :수학노트와 연습문제 해답\n",
      "\n",
      "Top 8 : 미시경제학\n",
      "\n",
      "Top 9 : 위대한 개츠비\n",
      "\n",
      "Top 10 : 전자기학\n",
      "\n"
     ]
    }
   ],
   "source": [
    "#학번 별 베스트 셀러(2012~2021)\n",
    "########################################################################\n",
    "admission_year = int(input(\"입학년도를 입력해주세요 (2012~2021) \\n\\n\"))#\n",
    "########################################################################\n",
    "\n",
    "for index_num in range(0,len(best_seller_dataframe)):\n",
    "    if int(best_seller_dataframe[index_num]['입학년도'].mean()) == admission_year: #보고 싶은 학번\n",
    "        print(\"\\n-------------------------\",int(best_seller_dataframe[index_num]['입학년도'].mean()),\"-------------------------\")\n",
    "        test = best_seller_dataframe[index_num][\"서명\"]\n",
    "        item_count = test.value_counts()[:10]\n",
    "        for idx, (val,cnt) in enumerate (item_count.iteritems(),1):\n",
    "            print(\"\")\n",
    "            print('Top',idx,\":\",val)\n",
    "        print(\"\")"
   ]
  },
  {
   "cell_type": "markdown",
   "id": "088f0bf9",
   "metadata": {},
   "source": [
    "# 학번별 DDC 추천 서비스"
   ]
  },
  {
   "cell_type": "code",
   "execution_count": 25,
   "id": "f10ae31f",
   "metadata": {},
   "outputs": [
    {
     "name": "stdout",
     "output_type": "stream",
     "text": [
      "입학년도를 입력해주세요 (2012~2021) \n",
      "\n",
      "2013\n",
      "\n",
      "------------------------- 2013 -------------------------\n",
      "\n",
      "650\n",
      "\n",
      "340\n",
      "\n",
      "330\n",
      "\n",
      "0\n",
      "\n",
      "620\n",
      "\n"
     ]
    }
   ],
   "source": [
    "#학번 별 ddc 추천(2012~2021)\n",
    "########################################################################\n",
    "admission_year = int(input(\"입학년도를 입력해주세요 (2012~2021) \\n\\n\"))#\n",
    "########################################################################\n",
    "\n",
    "for index_num in range(0,len(best_seller_dataframe)):\n",
    "    if int(best_seller_dataframe[index_num]['입학년도'].mean()) == admission_year: #보고 싶은 학번\n",
    "        print(\"\\n-------------------------\",int(best_seller_dataframe[index_num]['입학년도'].mean()),\"-------------------------\")\n",
    "        test = best_seller_dataframe[index_num][\"분류코드\"]\n",
    "        item_count = test.value_counts()[:5]\n",
    "        for idx, (val,cnt) in enumerate (item_count.iteritems(),1):\n",
    "            print(\"\")\n",
    "            print(val)\n",
    "        print(\"\")"
   ]
  },
  {
   "cell_type": "code",
   "execution_count": null,
   "id": "bba922c2",
   "metadata": {},
   "outputs": [],
   "source": []
  }
 ],
 "metadata": {
  "kernelspec": {
   "display_name": "Python 3",
   "language": "python",
   "name": "python3"
  },
  "language_info": {
   "codemirror_mode": {
    "name": "ipython",
    "version": 3
   },
   "file_extension": ".py",
   "mimetype": "text/x-python",
   "name": "python",
   "nbconvert_exporter": "python",
   "pygments_lexer": "ipython3",
   "version": "3.8.8"
  }
 },
 "nbformat": 4,
 "nbformat_minor": 5
}
