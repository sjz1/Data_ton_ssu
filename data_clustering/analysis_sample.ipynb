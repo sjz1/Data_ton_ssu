{
 "cells": [
  {
   "cell_type": "code",
   "execution_count": 1,
   "id": "0bc88ef9",
   "metadata": {},
   "outputs": [],
   "source": [
    "import numpy as np\n",
    "import csv\n",
    "import matplotlib.pyplot as plt"
   ]
  },
  {
   "cell_type": "markdown",
   "id": "c5847fb2",
   "metadata": {},
   "source": [
    "## 단순히 연출입 정보를 가져와보자 (mapping x)"
   ]
  },
  {
   "cell_type": "code",
   "execution_count": 2,
   "id": "2dfee8bc",
   "metadata": {
    "scrolled": false
   },
   "outputs": [
    {
     "name": "stdout",
     "output_type": "stream",
     "text": [
      "[436]\n",
      "[436, 170]\n",
      "[436, 170, 276]\n",
      "[436, 170, 276, 377]\n",
      "[436, 170, 276, 377, 354]\n",
      "[436, 170, 276, 377, 354, 70]\n",
      "[436, 170, 276, 377, 354, 70, 25]\n",
      "[436, 170, 276, 377, 354, 70, 25, 12]\n",
      "[436, 170, 276, 377, 354, 70, 25, 12, 222]\n",
      "#########################################################################\n",
      "9525\n"
     ]
    }
   ],
   "source": [
    "sol = []\n",
    "with open('sample_i.csv', mode= 'r', newline = '') as solution:\n",
    "    \n",
    "    # mode r -> 읽기 모드이다\n",
    "    #csv의 행단위로 데이터를 출력\n",
    "    #각 line은 ㅣist형식으로 되어있다\n",
    "    #newline = '' 데이터가 띄어쓰기 없이 들어간다\n",
    "\n",
    "    reader = csv.reader(solution)\n",
    "    for row in reader:\n",
    "        #print(row[0]) #0행의 숫자들\n",
    "        sol.append(int(row[2]))\n",
    "        if(len(sol) < 10):\n",
    "            print(sol[0:10])\n",
    "    print('#########################################################################')\n",
    "    print(len(sol))"
   ]
  },
  {
   "cell_type": "code",
   "execution_count": 3,
   "id": "33b93ea7",
   "metadata": {},
   "outputs": [
    {
     "name": "stdout",
     "output_type": "stream",
     "text": [
      "['의생명시스템학부']\n",
      "['의생명시스템학부', '수학과']\n",
      "['의생명시스템학부', '수학과', '영어영문학과']\n",
      "['의생명시스템학부', '수학과', '영어영문학과', '중어중문학과']\n",
      "['의생명시스템학부', '수학과', '영어영문학과', '중어중문학과', '글로벌통상학과']\n",
      "['의생명시스템학부', '수학과', '영어영문학과', '중어중문학과', '글로벌통상학과', '경영학부']\n",
      "['의생명시스템학부', '수학과', '영어영문학과', '중어중문학과', '글로벌통상학과', '경영학부', '글로벌통상학과']\n",
      "['의생명시스템학부', '수학과', '영어영문학과', '중어중문학과', '글로벌통상학과', '경영학부', '글로벌통상학과', '컴퓨터학부']\n",
      "['의생명시스템학부', '수학과', '영어영문학과', '중어중문학과', '글로벌통상학과', '경영학부', '글로벌통상학과', '컴퓨터학부', '전자정보공학부 IT융합전공']\n",
      "#########################################################################\n",
      "9525\n"
     ]
    }
   ],
   "source": [
    "sol = []\n",
    "with open('sample_i.csv', mode= 'r', newline = '') as solution:\n",
    "    \n",
    "    # mode r -> 읽기 모드이다\n",
    "    #csv의 행단위로 데이터를 출력\n",
    "    #각 line은 ㅣist형식으로 되어있다\n",
    "    #newline = '' 데이터가 띄어쓰기 없이 들어간다\n",
    "    reader = csv.reader(solution)\n",
    "    for row in reader:\n",
    "        #print(row[0]) #0행의 숫자들\n",
    "        sol.append((row[4]))\n",
    "        if(len(sol) < 10):\n",
    "            print(sol[0:10])\n",
    "    print('#########################################################################')\n",
    "    print(len(sol))"
   ]
  },
  {
   "cell_type": "markdown",
   "id": "322d5335",
   "metadata": {},
   "source": [
    "## 위를 이용하여 상위 소속과 학과를 mapping 해보자"
   ]
  },
  {
   "cell_type": "code",
   "execution_count": 4,
   "id": "426ca0e3",
   "metadata": {},
   "outputs": [
    {
     "name": "stdout",
     "output_type": "stream",
     "text": [
      "['소속']\n",
      "['소속', '글로벌통상학과']\n",
      "['소속', '글로벌통상학과', '벤처중소기업학과']\n",
      "['소속', '글로벌통상학과', '벤처중소기업학과', '회계학과']\n",
      "['소속', '글로벌통상학과', '벤처중소기업학과', '회계학과', '의생명시스템학부']\n",
      "['소속', '글로벌통상학과', '벤처중소기업학과', '회계학과', '의생명시스템학부', '사회복지학부']\n",
      "['소속', '글로벌통상학과', '벤처중소기업학과', '회계학과', '의생명시스템학부', '사회복지학부', '산업·정보시스템공학과']\n",
      "['소속', '글로벌통상학과', '벤처중소기업학과', '회계학과', '의생명시스템학부', '사회복지학부', '산업·정보시스템공학과', '화학과']\n",
      "['소속', '글로벌통상학과', '벤처중소기업학과', '회계학과', '의생명시스템학부', '사회복지학부', '산업·정보시스템공학과', '화학과', '금융학부']\n",
      "59\n",
      "#####################################################################\n",
      "58\n",
      "['글로벌통상학과', '벤처중소기업학과', '회계학과', '의생명시스템학부', '사회복지학부', '산업·정보시스템공학과', '화학과', '금융학부', '정보통신전자공학부', '경영학부', '중어중문학과', '전자정보공학부 IT융합전공', '전기공학부', '행정학부', '화학공학과', '기계공학부', '전자정보공학부 전자공학전공', '정치외교학과', '기독교학과', '건축학부', '국제법무학과', '영어영문학과', '언론홍보학과', '법학과', '정보사회학과', '경제학과', 'AI융합학부', '일어일문학과', '유기신소재·파이버공학과', '글로벌미디어학부', '소프트웨어학부', '철학과', '융합특성화자유전공학부', '평생교육학과', '국어국문학과', '수학과', '컴퓨터학부', '스포츠학부', '불어불문학과', '예술창작학부 문예창작전공', '사학과', '정보통계·보험수리학과', '물리학과', '경제통상대학', '독어독문학과', '금융경제학과', '중소', '예술창작학부 영화예술전공', '국제무역학과', '벤처경영학과(계약학과)', '미디어경영학과', '복지경영학과(계약학과)', '혁신경영학과(계약학과)', '임시출입자', '공과대학', '숭실호스피탈리티', '예술창작학부', '기독교상담복지학과']\n"
     ]
    }
   ],
   "source": [
    "tmp_idx_name = []\n",
    "idx_name = []\n",
    "with open('데이터_도서관출입.csv', mode= 'r', newline = '') as solution:\n",
    "    \n",
    "    # mode r -> 읽기 모드이다\n",
    "    #csv의 행단위로 데이터를 출력\n",
    "    #각 line은 ㅣist형식으로 되어있다\n",
    "    #newline = '' 데이터가 띄어쓰기 없이 들어간다\n",
    "    reader = csv.reader(solution)\n",
    "    for row in reader:\n",
    "        if row[4] not in tmp_idx_name:\n",
    "            tmp_idx_name.append((row[4]))\n",
    "            if(len(tmp_idx_name) < 10):\n",
    "                print(tmp_idx_name[0:10])\n",
    "    \n",
    "    print(len(tmp_idx_name))\n",
    "\n",
    "print(\"#####################################################################\")\n",
    "#소속제거 slicing         list_name[start : end : step]\n",
    "idx_name = tmp_idx_name[1:len(tmp_idx_name)]\n",
    "print(len(idx_name))\n",
    "print(idx_name)"
   ]
  },
  {
   "cell_type": "markdown",
   "id": "1528374d",
   "metadata": {},
   "source": [
    "# 들어갈 방 만들기"
   ]
  },
  {
   "cell_type": "code",
   "execution_count": 5,
   "id": "6c161a02",
   "metadata": {},
   "outputs": [
    {
     "name": "stdout",
     "output_type": "stream",
     "text": [
      "year_enter :  [[], [], [], [], [], [], [], [], [], [], [], [], [], [], [], [], [], [], [], [], [], [], [], [], [], [], [], [], [], [], [], [], [], [], [], [], [], [], [], [], [], [], [], [], [], [], [], [], [], [], [], [], [], [], [], [], [], []] 58\n",
      "year_borrow :  [[], [], [], [], [], [], [], [], [], [], [], [], [], [], [], [], [], [], [], [], [], [], [], [], [], [], [], [], [], [], [], [], [], [], [], [], [], [], [], [], [], [], [], [], [], [], [], [], [], [], [], [], [], [], [], [], [], []] 58\n"
     ]
    }
   ],
   "source": [
    "#################\n",
    "year_enter = []\n",
    "year_borrow = []\n",
    "#################\n",
    "for _ in idx_name:\n",
    "    year_enter.append([])\n",
    "    year_borrow.append([])\n",
    "print(\"year_enter : \",year_enter, len(year_enter))\n",
    "print(\"year_borrow : \",year_borrow, len(year_borrow))"
   ]
  },
  {
   "cell_type": "code",
   "execution_count": 6,
   "id": "7935a817",
   "metadata": {},
   "outputs": [
    {
     "name": "stdout",
     "output_type": "stream",
     "text": [
      "#########################################################################\n",
      "333 235 318 219 105 280 163 278 363 915 101 200 631 284 393 523 307 280 134 195 65 254 95 332 55 486 54 123 135 247 74 114 18 50 110 59 382 33 57 85 84 182 82 5 51 3 12 19 2 0 0 0 0 0 0 0 0 0 \n",
      "\n",
      "Sucessful data load\n"
     ]
    }
   ],
   "source": [
    "with open('sample_i.csv', mode= 'r', newline = '') as solution:\n",
    "    \n",
    "    # mode r -> 읽기 모드이다\n",
    "    #csv의 행단위로 데이터를 출력\n",
    "    #각 line은 ㅣist형식으로 되어있다\n",
    "    #newline = '' 데이터가 띄어쓰기 없이 들어간다\n",
    "\n",
    "    reader = csv.reader(solution)\n",
    "    row_count = 0\n",
    "    \n",
    "    for row in reader:\n",
    "        target_class = idx_name.index(row[4]) #해당 소속되는 index 번호가 출력\n",
    "        year_enter[target_class].append(int(row[2]))\n",
    "        row_count = row_count + 1\n",
    "print('#########################################################################')\n",
    "\n",
    "count = 0\n",
    "for i in range (0, len(idx_name)):\n",
    "    count = count + len(year_enter[i])\n",
    "    print(len(year_enter[i]) ,end = ' ')\n",
    "print(\"\\n\")\n",
    "if (count == row_count):\n",
    "    print(\"Sucessful data load\")\n",
    "else:\n",
    "    print(\"Error for data load please check count and row_count for deleting reference\")\n",
    "    print(\"Recommend : clear the room of list\")\n",
    "    #print(\"\\n\",count)\n",
    "    #print(row_count)"
   ]
  },
  {
   "cell_type": "code",
   "execution_count": 7,
   "id": "e0fbb027",
   "metadata": {},
   "outputs": [
    {
     "name": "stdout",
     "output_type": "stream",
     "text": [
      "#########################################################################\n",
      "57 32 29 7 10 19 27 34 4 46 11 40 28 12 27 24 92 20 54 72 15 28 15 31 6 25 13 36 18 42 38 58 0 12 23 0 40 0 7 16 10 20 13 0 6 2 0 34 2 0 0 0 0 0 0 0 0 0 \n",
      "\n",
      "Sucessful data load\n"
     ]
    }
   ],
   "source": [
    "with open('sample_b.csv', mode= 'r', newline = '') as solution:\n",
    "    \n",
    "    # mode r -> 읽기 모드이다\n",
    "    #csv의 행단위로 데이터를 출력\n",
    "    #각 line은 ㅣist형식으로 되어있다\n",
    "    #newline = '' 데이터가 띄어쓰기 없이 들어간다\n",
    "\n",
    "    reader = csv.reader(solution)\n",
    "    row_count = 0\n",
    "    \n",
    "    for row in reader:\n",
    "        target_class = idx_name.index(row[8]) #해당 소속되는 index 번호가 출력\n",
    "        year_borrow[target_class].append(int(row[6]))\n",
    "        row_count = row_count + 1\n",
    "print('#########################################################################')\n",
    "\n",
    "count = 0\n",
    "for i in range (0, len(idx_name)):\n",
    "    count = count + len(year_borrow[i])\n",
    "    print(len(year_borrow[i]) ,end = ' ')\n",
    "print(\"\\n\")\n",
    "if (count == row_count):\n",
    "    print(\"Sucessful data load\")\n",
    "else:\n",
    "    print(\"Error for data load please check count and row_count for deleting reference\")\n",
    "    print(\"Recommend : clear the room of list\")\n",
    "#print(\"\\n\",count)\n",
    "#print(row_count)"
   ]
  },
  {
   "cell_type": "markdown",
   "id": "01ccd6b3",
   "metadata": {},
   "source": [
    "### 샘플전체 데이터 활용"
   ]
  },
  {
   "cell_type": "code",
   "execution_count": 8,
   "id": "6285fee4",
   "metadata": {},
   "outputs": [
    {
     "data": {
      "image/png": "[encoded data removed]",
      "text/plain": [
       "<Figure size 360x360 with 1 Axes>"
      ]
     },
     "metadata": {
      "needs_background": "light"
     },
     "output_type": "display_data"
    }
   ],
   "source": [
    "%matplotlib inline\n",
    "#import matplotlib as mpl\n",
    "import matplotlib.pyplot as plt\n",
    "\n",
    "plt.figure(figsize=(5, 5)) #그래프의 크기조절\n",
    "\n",
    "#scatter plot 데이터를 생성\n",
    "x = year_enter\n",
    "y = year_borrow\n",
    "\n",
    "for idx in range(0,len(idx_name)):\n",
    "    if (len(x[idx]) * len(y[idx])) == 0: #division by zero\n",
    "        continue\n",
    "    else:\n",
    "        plt.scatter(sum(x[idx])/len(x[idx]),sum(y[idx])/len(y[idx]),c='b',alpha= 0.5) #->그래프의 객체 생성\n",
    "#alpha는 점들의 크기 label은 설명란\n",
    "#plt.legend(loc = 'upper right') #밑에 Scatter point 박스의 위치를 선정 \n",
    "plt.xlabel('year_enter') #--->x축의 제목\n",
    "plt.ylabel('year_borrow') #--->y축의 제목\n",
    "plt.title(\"class by year borrow - year enter\") # ---> 그래프 제목\n",
    "\n",
    "plt.show()  #-> 그래프를 출력"
   ]
  },
  {
   "cell_type": "markdown",
   "id": "2690a0f7",
   "metadata": {},
   "source": [
    "### 튀는값 정제"
   ]
  },
  {
   "cell_type": "code",
   "execution_count": 9,
   "id": "89d43232",
   "metadata": {},
   "outputs": [
    {
     "data": {
      "image/png": "[encoded data removed]",
      "text/plain": [
       "<Figure size 360x360 with 1 Axes>"
      ]
     },
     "metadata": {
      "needs_background": "light"
     },
     "output_type": "display_data"
    }
   ],
   "source": [
    "%matplotlib inline\n",
    "#import matplotlib as mpl\n",
    "import matplotlib.pyplot as plt\n",
    "\n",
    "plt.figure(figsize=(5, 5)) #그래프의 크기조절\n",
    "\n",
    "#scatter plot 데이터를 생성\n",
    "x = year_enter\n",
    "y = year_borrow\n",
    "\n",
    "\n",
    "for idx in range(0,len(idx_name)):\n",
    "    if (len(x[idx]) * len(y[idx])) == 0: #division by zero\n",
    "        continue\n",
    "    elif (sum(x[idx])/len(x[idx]) >1000) or (sum(y[idx])/len(y[idx])> 150):\n",
    "        continue\n",
    "    else:\n",
    "        plt.scatter(sum(x[idx])/len(x[idx]),sum(y[idx])/len(y[idx]),c='b',alpha= 0.5) #->그래프의 객체 생성\n",
    "#alpha는 점들의 크기 label은 설명란\n",
    "#plt.legend(loc = 'upper right') #밑에 Scatter point 박스의 위치를 선정 \n",
    "plt.xlabel('year_enter') #--->x축의 제목\n",
    "plt.ylabel('year_borrow') #--->y축의 제목\n",
    "plt.title(\"class by year borrow - year enter\") # ---> 그래프 제목\n",
    "\n",
    "plt.show()  #-> 그래프를 출력"
   ]
  },
  {
   "cell_type": "markdown",
   "id": "06cc034c",
   "metadata": {},
   "source": [
    "## Real data에 적용해보자"
   ]
  },
  {
   "cell_type": "code",
   "execution_count": 10,
   "id": "ba055e52",
   "metadata": {},
   "outputs": [
    {
     "name": "stdout",
     "output_type": "stream",
     "text": [
      "['소속']\n",
      "['소속', '글로벌통상학과']\n",
      "['소속', '글로벌통상학과', '벤처중소기업학과']\n",
      "['소속', '글로벌통상학과', '벤처중소기업학과', '회계학과']\n",
      "['소속', '글로벌통상학과', '벤처중소기업학과', '회계학과', '의생명시스템학부']\n",
      "['소속', '글로벌통상학과', '벤처중소기업학과', '회계학과', '의생명시스템학부', '사회복지학부']\n",
      "['소속', '글로벌통상학과', '벤처중소기업학과', '회계학과', '의생명시스템학부', '사회복지학부', '산업·정보시스템공학과']\n",
      "['소속', '글로벌통상학과', '벤처중소기업학과', '회계학과', '의생명시스템학부', '사회복지학부', '산업·정보시스템공학과', '화학과']\n",
      "['소속', '글로벌통상학과', '벤처중소기업학과', '회계학과', '의생명시스템학부', '사회복지학부', '산업·정보시스템공학과', '화학과', '금융학부']\n",
      "59\n",
      "#####################################################################\n",
      "58\n",
      "['글로벌통상학과', '벤처중소기업학과', '회계학과', '의생명시스템학부', '사회복지학부', '산업·정보시스템공학과', '화학과', '금융학부', '정보통신전자공학부', '경영학부', '중어중문학과', '전자정보공학부 IT융합전공', '전기공학부', '행정학부', '화학공학과', '기계공학부', '전자정보공학부 전자공학전공', '정치외교학과', '기독교학과', '건축학부', '국제법무학과', '영어영문학과', '언론홍보학과', '법학과', '정보사회학과', '경제학과', 'AI융합학부', '일어일문학과', '유기신소재·파이버공학과', '글로벌미디어학부', '소프트웨어학부', '철학과', '융합특성화자유전공학부', '평생교육학과', '국어국문학과', '수학과', '컴퓨터학부', '스포츠학부', '불어불문학과', '예술창작학부 문예창작전공', '사학과', '정보통계·보험수리학과', '물리학과', '경제통상대학', '독어독문학과', '금융경제학과', '중소', '예술창작학부 영화예술전공', '국제무역학과', '벤처경영학과(계약학과)', '미디어경영학과', '복지경영학과(계약학과)', '혁신경영학과(계약학과)', '임시출입자', '공과대학', '숭실호스피탈리티', '예술창작학부', '기독교상담복지학과']\n"
     ]
    }
   ],
   "source": [
    "tmp_idx_name = []\n",
    "idx_name = []\n",
    "with open('데이터_도서관출입.csv', mode= 'r', newline = '') as solution:\n",
    "    \n",
    "    # mode r -> 읽기 모드이다\n",
    "    #csv의 행단위로 데이터를 출력\n",
    "    #각 line은 ㅣist형식으로 되어있다\n",
    "    #newline = '' 데이터가 띄어쓰기 없이 들어간다\n",
    "    reader = csv.reader(solution)\n",
    "    for row in reader:\n",
    "        if row[4] not in tmp_idx_name:\n",
    "            tmp_idx_name.append((row[4]))\n",
    "            if(len(tmp_idx_name) < 10):\n",
    "                print(tmp_idx_name[0:10])\n",
    "    \n",
    "    print(len(tmp_idx_name))\n",
    "\n",
    "print(\"#####################################################################\")\n",
    "#소속제거 slicing         list_name[start : end : step]\n",
    "idx_name = tmp_idx_name[1:len(tmp_idx_name)]\n",
    "print(len(idx_name))\n",
    "print(idx_name)"
   ]
  },
  {
   "cell_type": "code",
   "execution_count": 11,
   "id": "4ab528ca",
   "metadata": {},
   "outputs": [
    {
     "name": "stdout",
     "output_type": "stream",
     "text": [
      "year_enter :  [[], [], [], [], [], [], [], [], [], [], [], [], [], [], [], [], [], [], [], [], [], [], [], [], [], [], [], [], [], [], [], [], [], [], [], [], [], [], [], [], [], [], [], [], [], [], [], [], [], [], [], [], [], [], [], [], [], []] 58\n",
      "year_borrow :  [[], [], [], [], [], [], [], [], [], [], [], [], [], [], [], [], [], [], [], [], [], [], [], [], [], [], [], [], [], [], [], [], [], [], [], [], [], [], [], [], [], [], [], [], [], [], [], [], [], [], [], [], [], [], [], [], [], []] 58\n",
      "37022 26900 35224 20631 16087 40364 19030 35155 32791 84251 10623 30073 69321 33201 59550 61426 48616 19895 10203 14519 7997 27455 9657 25583 5582 50884 6494 10678 28228 14411 10078 10094 1539 7257 11542 7594 35949 2522 8663 5684 11738 18299 9164 12 7386 2124 46 3559 2658 29 631 20 12 45 62 6 9 2 \n",
      "\n",
      "Sucessful data load\n",
      "#########################################################################\n",
      "21133 13719 12871 7385 10325 13303 7399 12034 4587 30545 6879 13153 14056 14916 16996 17499 17517 14736 19590 24713 11153 20164 7083 20442 7123 19287 6195 6207 10821 19632 11728 23916 220 5803 15483 4537 21680 1632 8055 15120 15818 10031 7376 0 5968 2427 0 7925 1160 7 982 32 192 0 0 0 0 0 \n",
      "\n",
      "Sucessful data load\n"
     ]
    }
   ],
   "source": [
    "#################\n",
    "year_enter = []\n",
    "year_borrow = []\n",
    "#################\n",
    "for _ in idx_name:\n",
    "    year_enter.append([])\n",
    "    year_borrow.append([])\n",
    "print(\"year_enter : \",year_enter, len(year_enter))\n",
    "print(\"year_borrow : \",year_borrow, len(year_borrow))\n",
    "\n",
    "with open('데이터_도서관출입.csv', mode= 'r', newline = '') as solution:\n",
    "    \n",
    "    # mode r -> 읽기 모드이다\n",
    "    #csv의 행단위로 데이터를 출력\n",
    "    #각 line은 ㅣist형식으로 되어있다\n",
    "    #newline = '' 데이터가 띄어쓰기 없이 들어간다\n",
    "\n",
    "    reader = csv.reader(solution)\n",
    "    row_count = 0\n",
    "    \n",
    "    for row in reader:\n",
    "        if (row[4] == '소속'):\n",
    "            continue\n",
    "        target_class = idx_name.index(row[4]) #해당 소속되는 index 번호가 출력\n",
    "        year_enter[target_class].append(int(row[2]))\n",
    "        row_count = row_count + 1\n",
    "\n",
    "\n",
    "count = 0\n",
    "for i in range (0, len(idx_name)):\n",
    "    count = count + len(year_enter[i])\n",
    "    print(len(year_enter[i]) ,end = ' ')\n",
    "print(\"\\n\")\n",
    "if (count == row_count):\n",
    "    print(\"Sucessful data load\")\n",
    "else:\n",
    "    print(\"Error for data load please check count and row_count for deleting reference\")\n",
    "    print(\"Recommend : clear the room of list\")\n",
    "    #print(\"\\n\",count)\n",
    "    #print(row_count)\n",
    "    \n",
    "print('#########################################################################')    \n",
    "with open('데이터_단행본대출.csv', mode= 'r', newline = '') as solution:\n",
    "    \n",
    "    # mode r -> 읽기 모드이다\n",
    "    #csv의 행단위로 데이터를 출력\n",
    "    #각 line은 ㅣist형식으로 되어있다\n",
    "    #newline = '' 데이터가 띄어쓰기 없이 들어간다\n",
    "\n",
    "    reader = csv.reader(solution)\n",
    "    row_count = 0\n",
    "    \n",
    "    for row in reader:\n",
    "        if (row[8] == '소속' or row[8] == '숭실대학교'):\n",
    "            continue\n",
    "            \n",
    "        target_class = idx_name.index(row[8]) #해당 소속되는 index 번호가 출력\n",
    "        year_borrow[target_class].append(int(row[6]))\n",
    "        row_count = row_count + 1\n",
    "\n",
    "count = 0\n",
    "for i in range (0, len(idx_name)):\n",
    "    count = count + len(year_borrow[i])\n",
    "    print(len(year_borrow[i]) ,end = ' ')\n",
    "print(\"\\n\")\n",
    "if (count == row_count):\n",
    "    print(\"Sucessful data load\")\n",
    "else:\n",
    "    print(\"Error for data load please check count and row_count for deleting reference\")\n",
    "    print(\"Recommend : clear the room of list\")\n",
    "#print(\"\\n\",count)\n",
    "#print(row_count)"
   ]
  },
  {
   "cell_type": "code",
   "execution_count": 25,
   "id": "e4f3b010",
   "metadata": {},
   "outputs": [
    {
     "data": {
      "image/png": "[encoded data removed]",
      "text/plain": [
       "<Figure size 360x360 with 1 Axes>"
      ]
     },
     "metadata": {
      "needs_background": "light"
     },
     "output_type": "display_data"
    }
   ],
   "source": [
    "%matplotlib inline\n",
    "#import matplotlib as mpl\n",
    "import matplotlib.pyplot as plt\n",
    "\n",
    "plt.figure(figsize=(5, 5)) #그래프의 크기조절\n",
    "\n",
    "#scatter plot 데이터를 생성\n",
    "x = year_enter\n",
    "y = year_borrow\n",
    "\n",
    "for idx in range(0,len(idx_name)):\n",
    "    if (len(x[idx]) * len(y[idx])) == 0: #division by zero\n",
    "        continue\n",
    "    else:\n",
    "        plt.scatter(sum(x[idx])/len(x[idx]),sum(y[idx])/len(y[idx]),c='b',alpha= 0.5) #->그래프의 객체 생성\n",
    "#alpha는 점들의 크기 label은 설명란\n",
    "#plt.legend(loc = 'upper right') #밑에 Scatter point 박스의 위치를 선정 \n",
    "plt.xlabel('year_enter') #--->x축의 제목\n",
    "plt.ylabel('year_borrow') #--->y축의 제목\n",
    "plt.title(\"class by year borrow - year enter\") # ---> 그래프 제목\n",
    "\n",
    "plt.show()  #-> 그래프를 출력"
   ]
  },
  {
   "cell_type": "markdown",
   "id": "279a2e1e",
   "metadata": {},
   "source": [
    "# Data argument 진행 - Group by clustering"
   ]
  },
  {
   "cell_type": "markdown",
   "id": "f0b33953",
   "metadata": {},
   "source": [
    "### 1.sample "
   ]
  },
  {
   "cell_type": "code",
   "execution_count": null,
   "id": "18ec0f62",
   "metadata": {},
   "outputs": [],
   "source": []
  },
  {
   "cell_type": "code",
   "execution_count": 13,
   "id": "66e18712",
   "metadata": {},
   "outputs": [
    {
     "name": "stdout",
     "output_type": "stream",
     "text": [
      "smp_year_enter :  [[], [], [], [], [], [], [], [], [], [], [], [], [], [], [], [], [], [], [], [], [], [], [], [], [], [], [], [], [], [], [], [], [], [], [], [], [], [], [], [], [], [], [], [], [], [], [], [], [], [], [], [], [], [], [], [], [], []] 58\n",
      "smp_year_borrow :  [[], [], [], [], [], [], [], [], [], [], [], [], [], [], [], [], [], [], [], [], [], [], [], [], [], [], [], [], [], [], [], [], [], [], [], [], [], [], [], [], [], [], [], [], [], [], [], [], [], [], [], [], [], [], [], [], [], []] 58\n",
      "#########################################################################\n",
      "333 235 318 219 105 280 163 278 363 915 101 200 631 284 393 523 307 280 134 195 65 254 95 332 55 486 54 123 135 247 74 114 18 50 110 59 382 33 57 85 84 182 82 5 51 3 12 19 2 0 0 0 0 0 0 0 0 0 \n",
      "\n",
      "Sucessful data load\n",
      "#########################################################################\n",
      "57 32 29 7 10 19 27 34 4 46 11 40 28 12 27 24 92 20 54 72 15 28 15 31 6 25 13 36 18 42 38 58 0 12 23 0 40 0 7 16 10 20 13 0 6 2 0 34 2 0 0 0 0 0 0 0 0 0 \n",
      "\n",
      "Sucessful data load\n"
     ]
    }
   ],
   "source": [
    "#################\n",
    "smp_year_enter = []\n",
    "smp_year_borrow = []\n",
    "#################\n",
    "for _ in idx_name:\n",
    "    smp_year_enter.append([])\n",
    "    smp_year_borrow.append([])\n",
    "print(\"smp_year_enter : \",smp_year_enter, len(smp_year_enter))\n",
    "print(\"smp_year_borrow : \",smp_year_borrow, len(smp_year_borrow))\n",
    "\n",
    "\n",
    "with open('sample_i.csv', mode= 'r', newline = '') as solution:\n",
    "    \n",
    "    # mode r -> 읽기 모드이다\n",
    "    #csv의 행단위로 데이터를 출력\n",
    "    #각 line은 ㅣist형식으로 되어있다\n",
    "    #newline = '' 데이터가 띄어쓰기 없이 들어간다\n",
    "\n",
    "    reader = csv.reader(solution)\n",
    "    row_count = 0\n",
    "    \n",
    "    for row in reader:\n",
    "        target_class = idx_name.index(row[4]) #해당 소속되는 index 번호가 출력\n",
    "        smp_year_enter[target_class].append(int(row[2]))\n",
    "        row_count = row_count + 1\n",
    "print('#########################################################################')\n",
    "\n",
    "count = 0\n",
    "for i in range (0, len(idx_name)):\n",
    "    count = count + len(smp_year_enter[i])\n",
    "    print(len(smp_year_enter[i]) ,end = ' ')\n",
    "print(\"\\n\")\n",
    "if (count == row_count):\n",
    "    print(\"Sucessful data load\")\n",
    "else:\n",
    "    print(\"Error for data load please check count and row_count for deleting reference\")\n",
    "    print(\"Recommend : clear the room of list\")\n",
    "    #print(\"\\n\",count)\n",
    "    #print(row_count)\n",
    "    \n",
    "with open('sample_b.csv', mode= 'r', newline = '') as solution:\n",
    "    \n",
    "    # mode r -> 읽기 모드이다\n",
    "    #csv의 행단위로 데이터를 출력\n",
    "    #각 line은 ㅣist형식으로 되어있다\n",
    "    #newline = '' 데이터가 띄어쓰기 없이 들어간다\n",
    "\n",
    "    reader = csv.reader(solution)\n",
    "    row_count = 0\n",
    "    \n",
    "    for row in reader:\n",
    "        target_class = idx_name.index(row[8]) #해당 소속되는 index 번호가 출력\n",
    "        smp_year_borrow[target_class].append(int(row[6]))\n",
    "        row_count = row_count + 1\n",
    "print('#########################################################################')\n",
    "\n",
    "count = 0\n",
    "for i in range (0, len(idx_name)):\n",
    "    count = count + len(smp_year_borrow[i])\n",
    "    print(len(smp_year_borrow[i]) ,end = ' ')\n",
    "print(\"\\n\")\n",
    "if (count == row_count):\n",
    "    print(\"Sucessful data load\")\n",
    "else:\n",
    "    print(\"Error for data load please check count and row_count for deleting reference\")\n",
    "    print(\"Recommend : clear the room of list\")\n",
    "#print(\"\\n\",count)\n",
    "#print(row_count)"
   ]
  },
  {
   "cell_type": "code",
   "execution_count": 14,
   "id": "b1129f51",
   "metadata": {},
   "outputs": [
    {
     "name": "stdout",
     "output_type": "stream",
     "text": [
      "글로벌통상학과\n"
     ]
    }
   ],
   "source": [
    "print(idx_name[0])"
   ]
  },
  {
   "cell_type": "code",
   "execution_count": 15,
   "id": "427beba9",
   "metadata": {},
   "outputs": [],
   "source": [
    "#글로벌통상학과로 예시를 들어보자"
   ]
  },
  {
   "cell_type": "code",
   "execution_count": 16,
   "id": "ff35e34f",
   "metadata": {},
   "outputs": [
    {
     "name": "stdout",
     "output_type": "stream",
     "text": [
      "작업 시작\n"
     ]
    },
    {
     "data": {
      "image/png": "[encoded data removed]",
      "text/plain": [
       "<Figure size 360x360 with 1 Axes>"
      ]
     },
     "metadata": {
      "needs_background": "light"
     },
     "output_type": "display_data"
    }
   ],
   "source": [
    "target_idx = 0\n",
    "#계산량 333 * 57 => 20000개 의 node\n",
    "%matplotlib inline\n",
    "#import matplotlib as mpl\n",
    "import matplotlib.pyplot as plt\n",
    "\n",
    "plt.figure(figsize=(5, 5)) #그래프의 크기조절\n",
    "\n",
    "#scatter plot 데이터를 생성\n",
    "x = smp_year_enter[target_idx]\n",
    "y = smp_year_borrow[target_idx]\n",
    "\n",
    "\n",
    "print(\"작업 시작\")\n",
    "for x_val in x:\n",
    "    plt.axvline(x_val, color='b', linewidth=1,)#alpha = 0.1)\n",
    "for y_val in y:\n",
    "    plt.axhline(y_val, color='b', linewidth=1,)#alpha = 0.1)\n",
    "#alpha는 점들의 크기 label은 설명란\n",
    "#plt.legend(loc = 'upper right') #밑에 Scatter point 박스의 위치를 선정 \n",
    "plt.xlabel('x_val') #--->x축의 제목\n",
    "plt.ylabel('y_val') #--->y축의 제목\n",
    "plt.title(\"preparing clustering \") # ---> 그래프 제목\n",
    "\n",
    "plt.show()  #-> 그래프를 출력"
   ]
  },
  {
   "cell_type": "code",
   "execution_count": 17,
   "id": "50414436",
   "metadata": {},
   "outputs": [
    {
     "data": {
      "text/plain": [
       "1068"
      ]
     },
     "execution_count": 17,
     "metadata": {},
     "output_type": "execute_result"
    }
   ],
   "source": [
    "coordinate = []\n",
    "count = 0\n",
    "\n",
    "#중복제거\n",
    "tmp_set = set(x) #집합set으로 변환\n",
    "x = list(tmp_set) #list로 변환\n",
    "\n",
    "#중복제거\n",
    "tmp_set = set(y) #집합set으로 변환\n",
    "y = list(tmp_set) #list로 변환\n",
    "\n",
    "for inp_x in x:\n",
    "    for inp_y in y:\n",
    "        coordinate.append([])\n",
    "        coordinate[count].append(inp_x)\n",
    "        coordinate[count].append(inp_y)\n",
    "        count = count + 1\n",
    "        \n",
    "len(coordinate)"
   ]
  },
  {
   "cell_type": "code",
   "execution_count": 18,
   "id": "8c26b2b2",
   "metadata": {},
   "outputs": [
    {
     "name": "stdout",
     "output_type": "stream",
     "text": [
      "<class 'list'>\n"
     ]
    },
    {
     "data": {
      "text/plain": [
       "6"
      ]
     },
     "execution_count": 18,
     "metadata": {},
     "output_type": "execute_result"
    }
   ],
   "source": [
    "print(type(coordinate))\n",
    "coordinate[1][0]"
   ]
  },
  {
   "cell_type": "code",
   "execution_count": 19,
   "id": "b26c8da6",
   "metadata": {},
   "outputs": [
    {
     "name": "stdout",
     "output_type": "stream",
     "text": [
      "y_pred의 개수 :  1068\n",
      "[0 0 0 0 0 0 0 0 0 0 0 0 0 0 0 0 0 0 0 0 0 0 0 0 0 0 0 0 0 0 0 0 0 0 0 0 3\n",
      " 3 3 3 3 3 3 3 3 3 3 3 0 0]\n",
      "[83.89189189189307, 662.1999999999999, 234.61538461538476, 965.5, 416.6666666666668] [42.25, 42.25, 42.25, 42.25, 42.25]\n"
     ]
    },
    {
     "data": {
      "text/plain": [
       "array([[ 83.89189189,  42.25      ],\n",
       "       [662.2       ,  42.25      ],\n",
       "       [234.61538462,  42.25      ],\n",
       "       [965.5       ,  42.25      ],\n",
       "       [416.66666667,  42.25      ]])"
      ]
     },
     "execution_count": 19,
     "metadata": {},
     "output_type": "execute_result"
    }
   ],
   "source": [
    "################################################ \n",
    "k = 5  #클러스터의 개수를 미리 지정(20~30)#\n",
    "################################################\n",
    "\n",
    "from sklearn.cluster import KMeans\n",
    "\n",
    "kmeans = KMeans(n_clusters = k)\n",
    "y_pred = kmeans.fit_predict(coordinate)\n",
    "print(\"y_pred의 개수 : \",len(y_pred))\n",
    "print(y_pred[:50])\n",
    "\n",
    "x_cen =[]\n",
    "y_cen=[]\n",
    "for i in range (0,k):\n",
    "    x_cen.append(kmeans.cluster_centers_[i][0])\n",
    "    y_cen.append(kmeans.cluster_centers_[i][1])\n",
    "print(x_cen[:k],y_cen[:k])\n",
    "kmeans.cluster_centers_"
   ]
  },
  {
   "cell_type": "code",
   "execution_count": 20,
   "id": "0065b2b3",
   "metadata": {},
   "outputs": [
    {
     "data": {
      "image/png": "[encoded data removed]",
      "text/plain": [
       "<Figure size 360x360 with 1 Axes>"
      ]
     },
     "metadata": {
      "needs_background": "light"
     },
     "output_type": "display_data"
    }
   ],
   "source": [
    "x_coor = []\n",
    "y_coor = []\n",
    "\n",
    "for n in range(0,len(coordinate)):\n",
    "    x_coor.append(coordinate[n][0])\n",
    "\n",
    "for n in range(0,len(coordinate)):\n",
    "    y_coor.append(coordinate[n][1])\n",
    "    \n",
    "%matplotlib inline\n",
    "#import matplotlib as mpl\n",
    "import matplotlib.pyplot as plt\n",
    "\n",
    "plt.figure(figsize=(5, 5)) #그래프의 크기조절\n",
    "\n",
    "#scatter plot 데이터를 생성\n",
    "plt.scatter(x_cen,y_cen,c='r',alpha= 0.8) #->그래프의 객체 생성\n",
    "#alpha는 점들의 크기 label은 설명란\n",
    "#plt.legend(loc = 'upper right') #밑에 Scatter point 박스의 위치를 선정 \n",
    "plt.scatter(x_coor,y_coor,c='b',alpha= 0.5) #->그래프의 객체 생성\n",
    "#alpha는 점들의 크기 label은 설명란\n",
    "#plt.legend(loc = 'upper right') #밑에 Scatter point 박스의 위치를 선정 \n",
    "plt.xlabel('year_enter') #--->x축의 제목\n",
    "plt.ylabel('year_borrow') #--->y축의 제목\n",
    "plt.title(\"class by year borrow - year enter\") # ---> 그래프 제목\n",
    "\n",
    "plt.show()  #-> 그래프를 출력"
   ]
  },
  {
   "cell_type": "markdown",
   "id": "7f4e236f",
   "metadata": {},
   "source": [
    "## 전체 학과에 대해 적용"
   ]
  },
  {
   "cell_type": "code",
   "execution_count": 148,
   "id": "af2fbb8b",
   "metadata": {},
   "outputs": [
    {
     "name": "stdout",
     "output_type": "stream",
     "text": [
      "year_enter :  [[], [], [], [], [], [], [], [], [], [], [], [], [], [], [], [], [], [], [], [], [], [], [], [], [], [], [], [], [], [], [], [], [], [], [], [], [], [], [], [], [], [], [], [], [], [], [], [], [], [], [], [], [], [], [], [], [], []] 58\n",
      "year_borrow :  [[], [], [], [], [], [], [], [], [], [], [], [], [], [], [], [], [], [], [], [], [], [], [], [], [], [], [], [], [], [], [], [], [], [], [], [], [], [], [], [], [], [], [], [], [], [], [], [], [], [], [], [], [], [], [], [], [], []] 58\n",
      "37022 26900 35224 20631 16087 40364 19030 35155 32791 84251 10623 30073 69321 33201 59550 61426 48616 19895 10203 14519 7997 27455 9657 25583 5582 50884 6494 10678 28228 14411 10078 10094 1539 7257 11542 7594 35949 2522 8663 5684 11738 18299 9164 12 7386 2124 46 3559 2658 29 631 20 12 45 62 6 9 2 \n",
      "\n",
      "Sucessful data load\n",
      "#########################################################################\n",
      "21133 13719 12871 7385 10325 13303 7399 12034 4587 30545 6879 13153 14056 14916 16996 17499 17517 14736 19590 24713 11153 20164 7083 20442 7123 19287 6195 6207 10821 19632 11728 23916 220 5803 15483 4537 21680 1632 8055 15120 15818 10031 7376 0 5968 2427 0 7925 1160 7 982 32 192 0 0 0 0 0 \n",
      "\n",
      "Sucessful data load\n"
     ]
    }
   ],
   "source": [
    "#################\n",
    "year_enter = []\n",
    "year_borrow = []\n",
    "#################\n",
    "for _ in idx_name:\n",
    "    year_enter.append([])\n",
    "    year_borrow.append([])\n",
    "print(\"year_enter : \",year_enter, len(year_enter))\n",
    "print(\"year_borrow : \",year_borrow, len(year_borrow))\n",
    "\n",
    "with open('데이터_도서관출입.csv', mode= 'r', newline = '') as solution:\n",
    "    \n",
    "    # mode r -> 읽기 모드이다\n",
    "    #csv의 행단위로 데이터를 출력\n",
    "    #각 line은 ㅣist형식으로 되어있다\n",
    "    #newline = '' 데이터가 띄어쓰기 없이 들어간다\n",
    "\n",
    "    reader = csv.reader(solution)\n",
    "    row_count = 0\n",
    "    \n",
    "    for row in reader:\n",
    "        if (row[4] == '소속'):\n",
    "            continue\n",
    "        target_class = idx_name.index(row[4]) #해당 소속되는 index 번호가 출력\n",
    "        year_enter[target_class].append(int(row[2]))\n",
    "        row_count = row_count + 1\n",
    "\n",
    "\n",
    "count = 0\n",
    "for i in range (0, len(idx_name)):\n",
    "    count = count + len(year_enter[i])\n",
    "    print(len(year_enter[i]) ,end = ' ')\n",
    "print(\"\\n\")\n",
    "if (count == row_count):\n",
    "    print(\"Sucessful data load\")\n",
    "else:\n",
    "    print(\"Error for data load please check count and row_count for deleting reference\")\n",
    "    print(\"Recommend : clear the room of list\")\n",
    "    #print(\"\\n\",count)\n",
    "    #print(row_count)\n",
    "    \n",
    "print('#########################################################################')    \n",
    "with open('데이터_단행본대출.csv', mode= 'r', newline = '') as solution:\n",
    "    \n",
    "    # mode r -> 읽기 모드이다\n",
    "    #csv의 행단위로 데이터를 출력\n",
    "    #각 line은 ㅣist형식으로 되어있다\n",
    "    #newline = '' 데이터가 띄어쓰기 없이 들어간다\n",
    "\n",
    "    reader = csv.reader(solution)\n",
    "    row_count = 0\n",
    "    \n",
    "    for row in reader:\n",
    "        if (row[8] == '소속' or row[8] == '숭실대학교'):\n",
    "            continue\n",
    "            \n",
    "        target_class = idx_name.index(row[8]) #해당 소속되는 index 번호가 출력\n",
    "        year_borrow[target_class].append(int(row[6]))\n",
    "        row_count = row_count + 1\n",
    "\n",
    "count = 0\n",
    "for i in range (0, len(idx_name)):\n",
    "    count = count + len(year_borrow[i])\n",
    "    print(len(year_borrow[i]) ,end = ' ')\n",
    "print(\"\\n\")\n",
    "if (count == row_count):\n",
    "    print(\"Sucessful data load\")\n",
    "else:\n",
    "    print(\"Error for data load please check count and row_count for deleting reference\")\n",
    "    print(\"Recommend : clear the room of list\")\n",
    "#print(\"\\n\",count)\n",
    "#print(row_count)"
   ]
  },
  {
   "cell_type": "code",
   "execution_count": 22,
   "id": "bbbe8498",
   "metadata": {
    "scrolled": true
   },
   "outputs": [
    {
     "name": "stdout",
     "output_type": "stream",
     "text": [
      "1\n",
      "2\n",
      "3\n",
      "4\n",
      "5\n",
      "6\n",
      "7\n",
      "8\n",
      "9\n",
      "10\n",
      "11\n",
      "12\n",
      "13\n",
      "14\n",
      "15\n",
      "16\n",
      "17\n",
      "18\n",
      "19\n",
      "20\n",
      "21\n",
      "22\n",
      "23\n",
      "24\n",
      "25\n",
      "26\n",
      "27\n",
      "28\n",
      "29\n",
      "30\n",
      "31\n",
      "32\n",
      "33\n",
      "34\n",
      "35\n",
      "36\n",
      "37\n",
      "38\n",
      "39\n",
      "40\n",
      "41\n",
      "42\n",
      "43\n",
      "44\n",
      "45\n",
      "46\n",
      "47\n",
      "48\n",
      "49\n",
      "50\n",
      "51\n"
     ]
    }
   ],
   "source": [
    "from sklearn.cluster import KMeans\n",
    "\n",
    "total_x_cen = []\n",
    "total_y_cen = []\n",
    "total_count = 0\n",
    "#################\n",
    "k = 5  \n",
    "################\n",
    "for target_idx in range (0, len(idx_name)):\n",
    "    if (len(year_borrow[target_idx]) == 0):\n",
    "        continue\n",
    "    x = year_enter[target_idx]\n",
    "    y = year_borrow[target_idx]\n",
    "    coordinate = []\n",
    "    count = 0\n",
    "\n",
    "    #중복제거\n",
    "    tmp_set = set(x) #집합set으로 변환\n",
    "    x = list(tmp_set) #list로 변환\n",
    "\n",
    "    #중복제거\n",
    "    tmp_set = set(y) #집합set으로 변환\n",
    "    y = list(tmp_set) #list로 변환\n",
    "\n",
    "    for inp_x in x:\n",
    "        for inp_y in y:\n",
    "            coordinate.append([])\n",
    "            coordinate[count].append(inp_x)\n",
    "            coordinate[count].append(inp_y)\n",
    "            count = count + 1\n",
    "\n",
    "\n",
    "    kmeans = KMeans(n_clusters = k)\n",
    "    y_pred = kmeans.fit_predict(coordinate)\n",
    "\n",
    "    for i in range (0,k):\n",
    "        total_x_cen.append(kmeans.cluster_centers_[i][0])\n",
    "        total_y_cen.append(kmeans.cluster_centers_[i][1])\n",
    "    total_count = total_count+1\n",
    "    print(total_count)"
   ]
  },
  {
   "cell_type": "code",
   "execution_count": 26,
   "id": "cabba5d4",
   "metadata": {},
   "outputs": [
    {
     "data": {
      "image/png": "[encoded data removed]",
      "text/plain": [
       "<Figure size 360x360 with 1 Axes>"
      ]
     },
     "metadata": {
      "needs_background": "light"
     },
     "output_type": "display_data"
    }
   ],
   "source": [
    "%matplotlib inline\n",
    "#import matplotlib as mpl\n",
    "import matplotlib.pyplot as plt\n",
    "\n",
    "plt.figure(figsize=(5, 5)) #그래프의 크기조절\n",
    "\n",
    "plt.scatter(total_x_cen,total_y_cen,c='b',alpha= 0.5) #->그래프의 객체 생성\n",
    "#alpha는 점들의 크기 label은 설명란\n",
    "#plt.legend(loc = 'upper right') #밑에 Scatter point 박스의 위치를 선정 \n",
    "plt.xlabel('year_enter') #--->x축의 제목\n",
    "plt.ylabel('year_borrow') #--->y축의 제목\n",
    "plt.title(\"class by year borrow - year enter\") # ---> 그래프 제목\n",
    "\n",
    "plt.show()  #-> 그래프를 출력"
   ]
  },
  {
   "cell_type": "code",
   "execution_count": 28,
   "id": "1a068c2b",
   "metadata": {},
   "outputs": [
    {
     "data": {
      "image/png": "[encoded data removed]",
      "text/plain": [
       "<Figure size 360x360 with 1 Axes>"
      ]
     },
     "metadata": {
      "needs_background": "light"
     },
     "output_type": "display_data"
    }
   ],
   "source": [
    "%matplotlib inline\n",
    "#import matplotlib as mpl\n",
    "import matplotlib.pyplot as plt\n",
    "\n",
    "plt.figure(figsize=(5, 5)) #그래프의 크기조절\n",
    "plt.xlim([0, 2000])      # X축의 범위: [xmin, xmax]\n",
    "plt.ylim([0, 100])     # Y축의 범위: [ymin, ymax]\n",
    "plt.scatter(total_x_cen,total_y_cen,c='b',alpha= 0.5) #->그래프의 객체 생성\n",
    "\n",
    "#alpha는 점들의 크기 label은 설명란\n",
    "#plt.legend(loc = 'upper right') #밑에 Scatter point 박스의 위치를 선정 \n",
    "plt.xlabel('year_enter') #--->x축의 제목\n",
    "plt.ylabel('year_borrow') #--->y축의 제목\n",
    "plt.title(\"after argumention -> year borrow - year enter\") # ---> 그래프 제목\n",
    "\n",
    "plt.show()  #-> 그래프를 출력\n"
   ]
  },
  {
   "cell_type": "code",
   "execution_count": 31,
   "id": "386b951c",
   "metadata": {},
   "outputs": [
    {
     "data": {
      "image/png": "[encoded data removed]",
      "text/plain": [
       "<Figure size 360x360 with 1 Axes>"
      ]
     },
     "metadata": {
      "needs_background": "light"
     },
     "output_type": "display_data"
    }
   ],
   "source": [
    "%matplotlib inline\n",
    "#import matplotlib as mpl\n",
    "import matplotlib.pyplot as plt\n",
    "\n",
    "plt.figure(figsize=(5, 5)) #그래프의 크기조절\n",
    "plt.xlim([0, 2000])      # X축의 범위: [xmin, xmax]\n",
    "plt.ylim([0, 100])     # Y축의 범위: [ymin, ymax]\n",
    "plt.scatter(total_x_cen,total_y_cen,c='b',alpha= 0.5) #->그래프의 객체 생성\n",
    "\n",
    "x_values = [0,1000]\n",
    "y_values = [0, 100]\n",
    "x_values2 = [1000,0]\n",
    "y_values2 = [0, 100]\n",
    "# y-50 = -1/10(x-500) -> x절편 1000 y절편 : 100\n",
    "plt.plot(x_values,y_values, c='r')\n",
    "plt.plot(x_values2,y_values2, c='r')\n",
    "#alpha는 점들의 크기 label은 설명란\n",
    "#plt.legend(loc = 'upper right') #밑에 Scatter point 박스의 위치를 선정 \n",
    "plt.xlabel('year_enter') #--->x축의 제목\n",
    "plt.ylabel('year_borrow') #--->y축의 제목\n",
    "plt.title(\"after argumention -> year borrow - year enter\") # ---> 그래프 제목\n",
    "\n",
    "plt.show()  #-> 그래프를 출력\n"
   ]
  },
  {
   "cell_type": "code",
   "execution_count": 159,
   "id": "b753352a",
   "metadata": {},
   "outputs": [
    {
     "name": "stdout",
     "output_type": "stream",
     "text": [
      "[]\n"
     ]
    }
   ],
   "source": [
    " "
   ]
  },
  {
   "cell_type": "code",
   "execution_count": 160,
   "id": "28516193",
   "metadata": {},
   "outputs": [
    {
     "data": {
      "text/plain": [
       "'경제통상대학'"
      ]
     },
     "execution_count": 160,
     "metadata": {},
     "output_type": "execute_result"
    }
   ],
   "source": [
    "idx_name[43]"
   ]
  },
  {
   "cell_type": "code",
   "execution_count": null,
   "id": "7a6e3b20",
   "metadata": {},
   "outputs": [],
   "source": []
  }
 ],
 "metadata": {
  "kernelspec": {
   "display_name": "Python 3",
   "language": "python",
   "name": "python3"
  },
  "language_info": {
   "codemirror_mode": {
    "name": "ipython",
    "version": 3
   },
   "file_extension": ".py",
   "mimetype": "text/x-python",
   "name": "python",
   "nbconvert_exporter": "python",
   "pygments_lexer": "ipython3",
   "version": "3.8.8"
  }
 },
 "nbformat": 4,
 "nbformat_minor": 5
}
